{
 "cells": [
  {
   "cell_type": "code",
   "execution_count": null,
   "id": "1c6ffdc1-8e05-48c3-8881-9a2dda38bf80",
   "metadata": {
    "tags": []
   },
   "outputs": [],
   "source": [
    "\n"
   ]
  },
  {
   "cell_type": "code",
   "execution_count": 2,
   "id": "51a0d9bf-aa7f-418a-8ca7-72f27919af19",
   "metadata": {
    "execution": {
     "iopub.execute_input": "2022-11-07T20:31:49.169679Z",
     "iopub.status.busy": "2022-11-07T20:31:49.169382Z",
     "iopub.status.idle": "2022-11-07T20:31:49.980960Z",
     "shell.execute_reply": "2022-11-07T20:31:49.980297Z",
     "shell.execute_reply.started": "2022-11-07T20:31:49.169657Z"
    },
    "tags": []
   },
   "outputs": [
    {
     "name": "stdout",
     "output_type": "stream",
     "text": [
      "GPU 0: Tesla T4 (UUID: GPU-c7932e9d-60b8-c107-e5aa-78f001a919ed)\n"
     ]
    }
   ],
   "source": [
    "!nvidia-smi -L"
   ]
  },
  {
   "cell_type": "code",
   "execution_count": null,
   "id": "006ca736-4f0a-44a0-ae95-c8f1a3159698",
   "metadata": {
    "tags": []
   },
   "outputs": [],
   "source": []
  },
  {
   "cell_type": "code",
   "execution_count": 3,
   "id": "3022afd8-2b17-488b-8d7f-e0258b40a32b",
   "metadata": {
    "execution": {
     "iopub.execute_input": "2022-11-07T20:31:49.982516Z",
     "iopub.status.busy": "2022-11-07T20:31:49.982201Z",
     "iopub.status.idle": "2022-11-07T20:31:50.244378Z",
     "shell.execute_reply": "2022-11-07T20:31:50.243850Z",
     "shell.execute_reply.started": "2022-11-07T20:31:49.982493Z"
    },
    "tags": []
   },
   "outputs": [],
   "source": [
    "import json\n",
    "import pandas as pd\n",
    "import os\n",
    "import re\n",
    "import string\n",
    "import asyncio\n",
    "from tqdm.auto import tqdm\n",
    "tqdm.pandas()"
   ]
  },
  {
   "cell_type": "code",
   "execution_count": 4,
   "id": "5916c2b2-d1b7-4e50-b1f1-963c6ff34735",
   "metadata": {
    "execution": {
     "iopub.execute_input": "2022-11-07T20:31:50.245775Z",
     "iopub.status.busy": "2022-11-07T20:31:50.245402Z",
     "iopub.status.idle": "2022-11-07T20:31:50.248582Z",
     "shell.execute_reply": "2022-11-07T20:31:50.248147Z",
     "shell.execute_reply.started": "2022-11-07T20:31:50.245751Z"
    },
    "tags": []
   },
   "outputs": [],
   "source": [
    "import config"
   ]
  },
  {
   "cell_type": "code",
   "execution_count": 5,
   "id": "7b8fbc4d-28d8-40bc-bb9a-739acae52b14",
   "metadata": {
    "execution": {
     "iopub.execute_input": "2022-11-07T20:31:50.249462Z",
     "iopub.status.busy": "2022-11-07T20:31:50.249203Z",
     "iopub.status.idle": "2022-11-07T20:31:50.252305Z",
     "shell.execute_reply": "2022-11-07T20:31:50.251885Z",
     "shell.execute_reply.started": "2022-11-07T20:31:50.249443Z"
    },
    "tags": []
   },
   "outputs": [],
   "source": [
    "# config.REDIS_HOST"
   ]
  },
  {
   "cell_type": "code",
   "execution_count": 6,
   "id": "e7c9bb8f-cff4-499c-9485-ba33217f8a82",
   "metadata": {
    "execution": {
     "iopub.execute_input": "2022-11-07T20:31:50.281061Z",
     "iopub.status.busy": "2022-11-07T20:31:50.280831Z",
     "iopub.status.idle": "2022-11-07T20:31:50.283548Z",
     "shell.execute_reply": "2022-11-07T20:31:50.283131Z",
     "shell.execute_reply.started": "2022-11-07T20:31:50.281043Z"
    },
    "tags": []
   },
   "outputs": [],
   "source": [
    "DATA_PATH='/home/jovyan/arxiv/arxiv-metadata-oai-snapshot.json'\n",
    "YEAR_CUTOFF = 2012\n",
    "YEAR_PATTERN = r\"(19|20[0-9]{2})\"\n",
    "ML_CATEGORY = \"cs.LG\""
   ]
  },
  {
   "cell_type": "code",
   "execution_count": 7,
   "id": "a9b22f2e-f7ce-4e7b-9501-da65030a3fd9",
   "metadata": {
    "execution": {
     "iopub.execute_input": "2022-11-07T20:31:50.404712Z",
     "iopub.status.busy": "2022-11-07T20:31:50.404379Z",
     "iopub.status.idle": "2022-11-07T20:31:51.178469Z",
     "shell.execute_reply": "2022-11-07T20:31:51.177811Z",
     "shell.execute_reply.started": "2022-11-07T20:31:50.404692Z"
    },
    "tags": []
   },
   "outputs": [
    {
     "name": "stdout",
     "output_type": "stream",
     "text": [
      "-rw-rw-r-- 1 jovyan jovyan 3.4G Nov  6 00:15 /home/jovyan/arxiv/arxiv-metadata-oai-snapshot.json\n"
     ]
    }
   ],
   "source": [
    "!ls -lah {DATA_PATH}"
   ]
  },
  {
   "cell_type": "code",
   "execution_count": null,
   "id": "b79bd19f-6f4a-4ae1-8b70-3e358e1b164c",
   "metadata": {
    "tags": []
   },
   "outputs": [],
   "source": []
  },
  {
   "cell_type": "code",
   "execution_count": 8,
   "id": "37d9f819-b399-4023-87e2-16daa88d4f3c",
   "metadata": {
    "execution": {
     "iopub.execute_input": "2022-11-07T20:31:51.179957Z",
     "iopub.status.busy": "2022-11-07T20:31:51.179665Z",
     "iopub.status.idle": "2022-11-07T20:31:51.186009Z",
     "shell.execute_reply": "2022-11-07T20:31:51.185534Z",
     "shell.execute_reply.started": "2022-11-07T20:31:51.179935Z"
    },
    "tags": []
   },
   "outputs": [],
   "source": [
    "def process(paper: dict):\n",
    "    paper = json.loads(paper)\n",
    "    if paper['journal-ref']:\n",
    "        years = [int(year) for year in re.findall(YEAR_PATTERN, paper['journal-ref'])]\n",
    "        years = [year for year in years if (year <= 2022 and year >= 1991)]\n",
    "        year = min(years) if years else None\n",
    "    else:\n",
    "        year = None\n",
    "    return {\n",
    "        'id': paper['id'],\n",
    "        'title': paper['title'],\n",
    "        'year': year,\n",
    "        'authors': paper['authors'],\n",
    "        'categories': ','.join(paper['categories'].split(' ')),\n",
    "        'abstract': paper['abstract']\n",
    "    }\n",
    "\n",
    "def papers():\n",
    "    with open(DATA_PATH, 'r') as f:\n",
    "        for paper in f:\n",
    "            paper = process(paper)\n",
    "            if paper['year']:\n",
    "                if paper['year'] >= YEAR_CUTOFF and ML_CATEGORY in paper['categories']:\n",
    "                    yield paper"
   ]
  },
  {
   "cell_type": "code",
   "execution_count": 9,
   "id": "50679147-a864-4773-9eab-71164ba4e97c",
   "metadata": {
    "execution": {
     "iopub.execute_input": "2022-11-07T20:31:51.186847Z",
     "iopub.status.busy": "2022-11-07T20:31:51.186661Z",
     "iopub.status.idle": "2022-11-07T20:32:23.709966Z",
     "shell.execute_reply": "2022-11-07T20:32:23.709453Z",
     "shell.execute_reply.started": "2022-11-07T20:31:51.186830Z"
    },
    "tags": []
   },
   "outputs": [
    {
     "data": {
      "text/plain": [
       "11419"
      ]
     },
     "execution_count": 9,
     "metadata": {},
     "output_type": "execute_result"
    }
   ],
   "source": [
    "df = pd.DataFrame(papers())\n",
    "len(df)"
   ]
  },
  {
   "cell_type": "code",
   "execution_count": null,
   "id": "938c0805-09ee-4e4f-8539-1cbd58f30957",
   "metadata": {
    "tags": []
   },
   "outputs": [],
   "source": []
  },
  {
   "cell_type": "code",
   "execution_count": 10,
   "id": "a05f8c32-b41f-4193-8fb4-f41d735f1528",
   "metadata": {
    "execution": {
     "iopub.execute_input": "2022-11-07T20:32:23.711399Z",
     "iopub.status.busy": "2022-11-07T20:32:23.711124Z",
     "iopub.status.idle": "2022-11-07T20:32:23.802975Z",
     "shell.execute_reply": "2022-11-07T20:32:23.802548Z",
     "shell.execute_reply.started": "2022-11-07T20:32:23.711378Z"
    },
    "tags": []
   },
   "outputs": [
    {
     "data": {
      "text/plain": [
       "169.84534547683685"
      ]
     },
     "execution_count": 10,
     "metadata": {},
     "output_type": "execute_result"
    }
   ],
   "source": [
    "# Avg length of the abstracts\n",
    "df.abstract.apply(lambda a: len(a.split())).mean()"
   ]
  },
  {
   "cell_type": "code",
   "execution_count": null,
   "id": "48f01bd2-2015-4db1-a361-62b19759e752",
   "metadata": {
    "tags": []
   },
   "outputs": [],
   "source": []
  },
  {
   "cell_type": "code",
   "execution_count": null,
   "id": "91d8bef0-dd1b-4795-836e-5f273fa80317",
   "metadata": {},
   "outputs": [],
   "source": []
  },
  {
   "cell_type": "code",
   "execution_count": 11,
   "id": "4a68a66c-f361-4082-87e4-7aa628106c9c",
   "metadata": {
    "execution": {
     "iopub.execute_input": "2022-11-07T20:32:23.803944Z",
     "iopub.status.busy": "2022-11-07T20:32:23.803610Z",
     "iopub.status.idle": "2022-11-07T20:32:24.891043Z",
     "shell.execute_reply": "2022-11-07T20:32:24.890526Z",
     "shell.execute_reply.started": "2022-11-07T20:32:23.803924Z"
    },
    "tags": []
   },
   "outputs": [],
   "source": [
    "from indexer import RedisIndexer, ColBERTFormator, preprocess\n",
    "\n",
    "from model import ColBERTModel"
   ]
  },
  {
   "cell_type": "code",
   "execution_count": null,
   "id": "04330dc7-d00b-4483-865d-d1d2e6f3464c",
   "metadata": {},
   "outputs": [],
   "source": []
  },
  {
   "cell_type": "code",
   "execution_count": null,
   "id": "9bfe8397-621e-4935-aaa9-61f27a8c67d7",
   "metadata": {
    "tags": []
   },
   "outputs": [],
   "source": []
  },
  {
   "cell_type": "code",
   "execution_count": 12,
   "id": "02db2b67-281a-4b59-a529-76a68105547a",
   "metadata": {
    "execution": {
     "iopub.execute_input": "2022-11-07T20:32:24.892036Z",
     "iopub.status.busy": "2022-11-07T20:32:24.891836Z",
     "iopub.status.idle": "2022-11-07T20:32:24.896973Z",
     "shell.execute_reply": "2022-11-07T20:32:24.896551Z",
     "shell.execute_reply.started": "2022-11-07T20:32:24.892017Z"
    },
    "tags": []
   },
   "outputs": [
    {
     "data": {
      "text/plain": [
       "1142"
      ]
     },
     "execution_count": 12,
     "metadata": {},
     "output_type": "execute_result"
    }
   ],
   "source": [
    "# sample only fraction of data\n",
    "df_sampled = df.sample(frac=0.1)\n",
    "len(df_sampled)"
   ]
  },
  {
   "cell_type": "code",
   "execution_count": null,
   "id": "8d4dd03c-7474-4239-99c1-3b8cdbeeb0d9",
   "metadata": {},
   "outputs": [],
   "source": []
  },
  {
   "cell_type": "code",
   "execution_count": 13,
   "id": "f948408a-6a96-4ca9-bf4c-646fd6422341",
   "metadata": {
    "execution": {
     "iopub.execute_input": "2022-11-07T20:32:24.897830Z",
     "iopub.status.busy": "2022-11-07T20:32:24.897605Z",
     "iopub.status.idle": "2022-11-07T20:32:28.123939Z",
     "shell.execute_reply": "2022-11-07T20:32:28.123370Z",
     "shell.execute_reply.started": "2022-11-07T20:32:24.897809Z"
    },
    "tags": []
   },
   "outputs": [
    {
     "name": "stdout",
     "output_type": "stream",
     "text": [
      "using device: cuda:0\n"
     ]
    },
    {
     "name": "stderr",
     "output_type": "stream",
     "text": [
      "Some weights of the model checkpoint at distilbert-base-uncased were not used when initializing DistilBertModel: ['vocab_transform.weight', 'vocab_layer_norm.weight', 'vocab_transform.bias', 'vocab_layer_norm.bias', 'vocab_projector.weight', 'vocab_projector.bias']\n",
      "- This IS expected if you are initializing DistilBertModel from the checkpoint of a model trained on another task or with another architecture (e.g. initializing a BertForSequenceClassification model from a BertForPreTraining model).\n",
      "- This IS NOT expected if you are initializing DistilBertModel from the checkpoint of a model that you expect to be exactly identical (initializing a BertForSequenceClassification model from a BertForSequenceClassification model).\n"
     ]
    }
   ],
   "source": [
    "model = ColBERTModel()\n",
    "formator = ColBERTFormator(doc_prefix=\"doc\", vec_prefix=\"doc_vec\")"
   ]
  },
  {
   "cell_type": "code",
   "execution_count": 14,
   "id": "db49c989-a7e6-4a1b-bc27-d2a11fd60b9f",
   "metadata": {
    "execution": {
     "iopub.execute_input": "2022-11-07T20:32:28.125044Z",
     "iopub.status.busy": "2022-11-07T20:32:28.124756Z",
     "iopub.status.idle": "2022-11-07T20:32:28.127800Z",
     "shell.execute_reply": "2022-11-07T20:32:28.127344Z",
     "shell.execute_reply.started": "2022-11-07T20:32:28.125022Z"
    },
    "tags": []
   },
   "outputs": [],
   "source": [
    "# indexer = RedisIndexer(index_name=\"doc\", url=config.REDIS_URL)\n",
    "# await indexer.init_redis()\n",
    "\n",
    "# embs = []\n",
    "# for i, text in enumerate(tqdm(df_sampled.apply(preprocess, axis=1).tolist())):\n",
    "#     emb = model.compute_document_representation(text)\n",
    "#     # emb.tolist()\n",
    "#     vecs = formator.create_vec_formatting(i, emb)\n",
    "#     # print(docs)\n",
    "#     await indexer.write(vecs)\n",
    "#     docs = formator.create_doc_formatting(i, emb, text)\n",
    "#     await indexer.write(docs)\n",
    "# await indexer.print_dbsize()"
   ]
  },
  {
   "cell_type": "code",
   "execution_count": 15,
   "id": "bfcd707a-e918-44a7-81a0-d115ff11f966",
   "metadata": {
    "execution": {
     "iopub.execute_input": "2022-11-07T20:32:28.128665Z",
     "iopub.status.busy": "2022-11-07T20:32:28.128461Z",
     "iopub.status.idle": "2022-11-07T20:32:28.131773Z",
     "shell.execute_reply": "2022-11-07T20:32:28.131342Z",
     "shell.execute_reply.started": "2022-11-07T20:32:28.128645Z"
    },
    "tags": []
   },
   "outputs": [],
   "source": [
    "import numpy as np"
   ]
  },
  {
   "cell_type": "code",
   "execution_count": 16,
   "id": "e54532ff-4dc4-455a-88f4-b9a9783a2d8e",
   "metadata": {
    "execution": {
     "iopub.execute_input": "2022-11-07T20:32:28.133496Z",
     "iopub.status.busy": "2022-11-07T20:32:28.133190Z",
     "iopub.status.idle": "2022-11-07T20:32:28.136310Z",
     "shell.execute_reply": "2022-11-07T20:32:28.135877Z",
     "shell.execute_reply.started": "2022-11-07T20:32:28.133476Z"
    },
    "tags": []
   },
   "outputs": [],
   "source": [
    "doc_prefix=\"paper\"\n",
    "vec_prefix=\"doc_vec\"\n",
    "\n",
    "def get_doc_key(key):\n",
    "    return f\"{doc_prefix}:{key}\"\n",
    "def get_vec_key(key):\n",
    "    return f\"{vec_prefix}:{key}\""
   ]
  },
  {
   "cell_type": "code",
   "execution_count": 17,
   "id": "9804dadf-da77-46ad-b119-0fba9c3e26c8",
   "metadata": {
    "execution": {
     "iopub.execute_input": "2022-11-07T20:32:28.137194Z",
     "iopub.status.busy": "2022-11-07T20:32:28.136922Z",
     "iopub.status.idle": "2022-11-07T20:32:56.026919Z",
     "shell.execute_reply": "2022-11-07T20:32:56.026369Z",
     "shell.execute_reply.started": "2022-11-07T20:32:28.137173Z"
    },
    "tags": []
   },
   "outputs": [
    {
     "data": {
      "application/vnd.jupyter.widget-view+json": {
       "model_id": "35c11763b3c0446f82493bf3da919d3d",
       "version_major": 2,
       "version_minor": 0
      },
      "text/plain": [
       "  0%|          | 0/1142 [00:00<?, ?it/s]"
      ]
     },
     "metadata": {},
     "output_type": "display_data"
    }
   ],
   "source": [
    "df_vec = pd.DataFrame()\n",
    "df_doc = pd.DataFrame()\n",
    "\n",
    "embs = []\n",
    "for doc_id, text in enumerate(tqdm(df_sampled.apply(preprocess, axis=1).tolist())):\n",
    "    emb = model.compute_document_representation(text)\n",
    "    \n",
    "    vecs= emb\n",
    "    data =text\n",
    "    # add to doc df    \n",
    "    vecs = vecs.astype(np.float32)\n",
    "    vecs_bytes = vecs.tobytes()\n",
    "    key = get_doc_key(f'{doc_id}')\n",
    "    doc_columns = ['id', 'doc_id', 'doc', 'vector_matrix']\n",
    "    docs = [[key, str(doc_id), data, vecs_bytes]]\n",
    "    # doc = {\n",
    "    #     'id': key,\n",
    "    #     'doc_id': str(doc_id),\n",
    "    #     'doc': data,\n",
    "    #     'vector_matrix': vecs_bytes\n",
    "    # }\n",
    "    # df_doc = df_doc.append(doc, ignore_index = True)\n",
    "    df_doc = pd.concat([pd.DataFrame(docs, columns=doc_columns), df_doc], ignore_index = True)\n",
    "    \n",
    "        \n",
    "    # add to vec df        \n",
    "    docvec_columns = ['id', 'doc_id', 'vec_id', 'vector']\n",
    "    doc_vecs = []\n",
    "    for vec_id, vec in enumerate(vecs):\n",
    "        key = get_vec_key(f'{doc_id}-{vec_id}')\n",
    "        vec_bytes = vec.tobytes()\n",
    "        doc_vec = [key,str(doc_id),str(vec_id),vec_bytes]\n",
    "        doc_vecs.append(doc_vec)\n",
    "    df_vec = pd.concat([pd.DataFrame(doc_vecs, columns=docvec_columns), df_vec], ignore_index = True)"
   ]
  },
  {
   "cell_type": "code",
   "execution_count": 18,
   "id": "0c7cf2ed-5919-4807-b5c0-f64acbcb4d9c",
   "metadata": {
    "execution": {
     "iopub.execute_input": "2022-11-07T20:32:56.027983Z",
     "iopub.status.busy": "2022-11-07T20:32:56.027684Z",
     "iopub.status.idle": "2022-11-07T20:32:56.031928Z",
     "shell.execute_reply": "2022-11-07T20:32:56.031444Z",
     "shell.execute_reply.started": "2022-11-07T20:32:56.027961Z"
    },
    "tags": []
   },
   "outputs": [
    {
     "data": {
      "text/plain": [
       "(248895, 1142, 11419)"
      ]
     },
     "execution_count": 18,
     "metadata": {},
     "output_type": "execute_result"
    }
   ],
   "source": [
    "len(df_vec), len(df_doc), len(df)"
   ]
  },
  {
   "cell_type": "code",
   "execution_count": 19,
   "id": "c1f8ac93-dd6e-42d5-8fdd-07663f3156e2",
   "metadata": {
    "execution": {
     "iopub.execute_input": "2022-11-07T20:32:56.033040Z",
     "iopub.status.busy": "2022-11-07T20:32:56.032681Z",
     "iopub.status.idle": "2022-11-07T20:32:56.149435Z",
     "shell.execute_reply": "2022-11-07T20:32:56.148916Z",
     "shell.execute_reply.started": "2022-11-07T20:32:56.033019Z"
    },
    "tags": []
   },
   "outputs": [
    {
     "data": {
      "text/plain": [
       "(822364569, 766265996, 18737794)"
      ]
     },
     "execution_count": 19,
     "metadata": {},
     "output_type": "execute_result"
    }
   ],
   "source": [
    "(df_vec.memory_usage(index=True, deep=True).sum()), (df_doc.memory_usage(index=True, deep=True).sum()),(df.memory_usage(index=True, deep=True).sum())"
   ]
  },
  {
   "cell_type": "code",
   "execution_count": null,
   "id": "96b6b80e-9fb8-4b84-8e13-56ef61264930",
   "metadata": {
    "tags": []
   },
   "outputs": [],
   "source": []
  },
  {
   "cell_type": "code",
   "execution_count": 20,
   "id": "018f652b-681d-4127-99fc-6152a4cd7151",
   "metadata": {
    "execution": {
     "iopub.execute_input": "2022-11-07T20:32:56.150521Z",
     "iopub.status.busy": "2022-11-07T20:32:56.150140Z",
     "iopub.status.idle": "2022-11-07T20:32:56.152690Z",
     "shell.execute_reply": "2022-11-07T20:32:56.152227Z",
     "shell.execute_reply.started": "2022-11-07T20:32:56.150500Z"
    },
    "tags": []
   },
   "outputs": [],
   "source": [
    "# df_vec[:2].to_dict(orient='records')"
   ]
  },
  {
   "cell_type": "code",
   "execution_count": null,
   "id": "4eea0a66-14d0-41fd-bfcd-a81372d7a9ab",
   "metadata": {},
   "outputs": [],
   "source": []
  },
  {
   "cell_type": "code",
   "execution_count": 21,
   "id": "8ad86123-e00f-4aa4-8f94-036a18c28257",
   "metadata": {
    "execution": {
     "iopub.execute_input": "2022-11-07T20:32:56.153630Z",
     "iopub.status.busy": "2022-11-07T20:32:56.153341Z",
     "iopub.status.idle": "2022-11-07T20:32:56.155981Z",
     "shell.execute_reply": "2022-11-07T20:32:56.155542Z",
     "shell.execute_reply.started": "2022-11-07T20:32:56.153610Z"
    },
    "tags": []
   },
   "outputs": [],
   "source": [
    "# indexer = RedisIndexer(index_name=\"doc\", url=config.REDIS_URL)\n",
    "# await indexer.init_redis()\n",
    "\n",
    "# await indexer.write(df_vec.to_dict(orient='records'))\n",
    "# print(await indexer.print_dbsize())\n",
    "# await indexer.write(df_doc.to_dict(orient='records'))\n",
    "# print(await indexer.print_dbsize())\n"
   ]
  },
  {
   "cell_type": "code",
   "execution_count": 22,
   "id": "d6e35614-47fe-4f82-ac71-983d8b5acda8",
   "metadata": {
    "execution": {
     "iopub.execute_input": "2022-11-07T20:32:56.156849Z",
     "iopub.status.busy": "2022-11-07T20:32:56.156568Z",
     "iopub.status.idle": "2022-11-07T20:32:56.159869Z",
     "shell.execute_reply": "2022-11-07T20:32:56.159433Z",
     "shell.execute_reply.started": "2022-11-07T20:32:56.156829Z"
    },
    "tags": []
   },
   "outputs": [],
   "source": [
    "# indexer = RedisIndexer(index_name=\"doc\", url=config.REDIS_URL)\n",
    "# await indexer.init_redis()\n",
    "\n",
    "# # await indexer.write(df_vec.to_dict(orient='records'))\n",
    "# # print(await indexer.print_dbsize())\n",
    "# # await indexer.write(df_doc.to_dict(orient='records'))\n",
    "# # print(await indexer.print_dbsize())\n",
    "    \n",
    "# data_ = df_vec.to_dict(orient='records')\n",
    "# for data_elem in tqdm(data_):\n",
    "#     await indexer._RedisIndexer__write_to_redis(data_elem['id'], data_elem)\n",
    "# print(await indexer.print_dbsize())\n",
    "\n",
    "# data_ = df_doc.to_dict(orient='records')\n",
    "# for data_elem in tqdm(data_):\n",
    "#     await indexer._RedisIndexer__write_to_redis(data_elem['id'], data_elem)\n",
    "# print(await indexer.print_dbsize())"
   ]
  },
  {
   "cell_type": "code",
   "execution_count": null,
   "id": "815c0d2f-20a7-4065-9388-052949ff4d6e",
   "metadata": {},
   "outputs": [],
   "source": []
  },
  {
   "cell_type": "code",
   "execution_count": 23,
   "id": "fae2f5a0-efc4-4efd-ac47-e0cd0cee624c",
   "metadata": {
    "execution": {
     "iopub.execute_input": "2022-11-07T20:32:56.160721Z",
     "iopub.status.busy": "2022-11-07T20:32:56.160451Z",
     "iopub.status.idle": "2022-11-07T20:32:56.164526Z",
     "shell.execute_reply": "2022-11-07T20:32:56.164074Z",
     "shell.execute_reply.started": "2022-11-07T20:32:56.160702Z"
    },
    "tags": []
   },
   "outputs": [],
   "source": [
    "import redis.asyncio as redis\n",
    "import asyncio"
   ]
  },
  {
   "cell_type": "code",
   "execution_count": 47,
   "id": "47c7d23e-df00-454b-9811-112066cac468",
   "metadata": {
    "execution": {
     "iopub.execute_input": "2022-11-07T20:44:12.536599Z",
     "iopub.status.busy": "2022-11-07T20:44:12.536217Z",
     "iopub.status.idle": "2022-11-07T20:44:12.540754Z",
     "shell.execute_reply": "2022-11-07T20:44:12.540257Z",
     "shell.execute_reply.started": "2022-11-07T20:44:12.536572Z"
    },
    "tags": []
   },
   "outputs": [],
   "source": [
    "async def gather_with_concurrency(redis_conn, *data_elems):\n",
    "    semaphore = asyncio.Semaphore(50)\n",
    "    async def load_elems(data_elem):       \n",
    "        # print(len(data_elem))\n",
    "        async with semaphore:            \n",
    "            # save vector data\n",
    "            key = data_elem['id']            \n",
    "            await redis_conn.hset(\n",
    "                key,\n",
    "                mapping=data_elem,\n",
    "            )\n",
    "    # gather with concurrency\n",
    "    await asyncio.gather(*[load_elems(elem) for elem in tqdm(data_elems)])\n",
    "    # load_elems(data_elems[0])"
   ]
  },
  {
   "cell_type": "code",
   "execution_count": 45,
   "id": "d2fba5d7-a02a-4d0d-b7f7-fb7544237b1b",
   "metadata": {
    "execution": {
     "iopub.execute_input": "2022-11-07T20:41:14.828055Z",
     "iopub.status.busy": "2022-11-07T20:41:14.827780Z",
     "iopub.status.idle": "2022-11-07T20:41:14.831473Z",
     "shell.execute_reply": "2022-11-07T20:41:14.830885Z",
     "shell.execute_reply.started": "2022-11-07T20:41:14.828034Z"
    },
    "tags": []
   },
   "outputs": [],
   "source": [
    "redis_conn = await redis.from_url(config.REDIS_URL)"
   ]
  },
  {
   "cell_type": "code",
   "execution_count": null,
   "id": "aeb4008f-c87b-4943-95ad-d726f73040c8",
   "metadata": {},
   "outputs": [],
   "source": []
  },
  {
   "cell_type": "code",
   "execution_count": 48,
   "id": "508da0fb-a586-479d-95f9-db73f422603f",
   "metadata": {
    "execution": {
     "iopub.execute_input": "2022-11-07T20:44:18.267364Z",
     "iopub.status.busy": "2022-11-07T20:44:18.266990Z",
     "iopub.status.idle": "2022-11-07T20:57:45.814247Z",
     "shell.execute_reply": "2022-11-07T20:57:45.813588Z",
     "shell.execute_reply.started": "2022-11-07T20:44:18.267339Z"
    },
    "tags": []
   },
   "outputs": [
    {
     "data": {
      "application/vnd.jupyter.widget-view+json": {
       "model_id": "44b65481d24243ab8251c92f20bca77f",
       "version_major": 2,
       "version_minor": 0
      },
      "text/plain": [
       "  0%|          | 0/248895 [00:00<?, ?it/s]"
      ]
     },
     "metadata": {},
     "output_type": "display_data"
    }
   ],
   "source": [
    "# df_vec.to_dict(orient='records')[0]\n",
    "doc_vecs =df_vec.to_dict(orient='records')\n",
    "await gather_with_concurrency(redis_conn, *doc_vecs)"
   ]
  },
  {
   "cell_type": "code",
   "execution_count": null,
   "id": "a041fb22-b457-4331-aaad-6f736c6e8f65",
   "metadata": {},
   "outputs": [],
   "source": [
    "print(await indexer.print_dbsize())"
   ]
  },
  {
   "cell_type": "code",
   "execution_count": null,
   "id": "85aed34b-6539-4bd3-b968-75475d87d2cc",
   "metadata": {
    "tags": []
   },
   "outputs": [],
   "source": []
  },
  {
   "cell_type": "code",
   "execution_count": 71,
   "id": "8f6c599b-4b21-41a8-890f-ffd7ce71dfe4",
   "metadata": {
    "execution": {
     "iopub.execute_input": "2022-11-07T21:48:43.669931Z",
     "iopub.status.busy": "2022-11-07T21:48:43.669535Z",
     "iopub.status.idle": "2022-11-07T21:48:43.684958Z",
     "shell.execute_reply": "2022-11-07T21:48:43.684443Z",
     "shell.execute_reply.started": "2022-11-07T21:48:43.669905Z"
    },
    "tags": []
   },
   "outputs": [],
   "source": [
    "# df_doc['id'] = df_doc.apply(lambda r: r.id.replace(\"doc\",\"paper\"), axis=1)"
   ]
  },
  {
   "cell_type": "code",
   "execution_count": 73,
   "id": "91ccd70d-acfb-4f83-9a50-5c6a229905f0",
   "metadata": {
    "execution": {
     "iopub.execute_input": "2022-11-07T21:50:04.088135Z",
     "iopub.status.busy": "2022-11-07T21:50:04.087770Z",
     "iopub.status.idle": "2022-11-07T21:50:07.824716Z",
     "shell.execute_reply": "2022-11-07T21:50:07.824117Z",
     "shell.execute_reply.started": "2022-11-07T21:50:04.088111Z"
    },
    "tags": []
   },
   "outputs": [
    {
     "data": {
      "application/vnd.jupyter.widget-view+json": {
       "model_id": "dbb4fd67f1d940f9a1da12e1669a8d1c",
       "version_major": 2,
       "version_minor": 0
      },
      "text/plain": [
       "  0%|          | 0/1142 [00:00<?, ?it/s]"
      ]
     },
     "metadata": {},
     "output_type": "display_data"
    }
   ],
   "source": [
    "docs = df_doc[['id', 'doc_id', 'doc']].to_dict(orient='records')\n",
    "await gather_with_concurrency(redis_conn, *docs)"
   ]
  },
  {
   "cell_type": "code",
   "execution_count": null,
   "id": "cfac30b5-60f6-4ba1-8e7f-01680be7f63a",
   "metadata": {
    "tags": []
   },
   "outputs": [],
   "source": []
  },
  {
   "cell_type": "code",
   "execution_count": 58,
   "id": "5bffbe8e-2cb9-4443-a505-4f8db89eb307",
   "metadata": {
    "execution": {
     "iopub.execute_input": "2022-11-07T21:04:01.341181Z",
     "iopub.status.busy": "2022-11-07T21:04:01.340802Z",
     "iopub.status.idle": "2022-11-07T21:04:01.344605Z",
     "shell.execute_reply": "2022-11-07T21:04:01.344114Z",
     "shell.execute_reply.started": "2022-11-07T21:04:01.341155Z"
    },
    "tags": []
   },
   "outputs": [],
   "source": [
    "from redis.commands.search.field import (\n",
    "    TagField,\n",
    "    VectorField,\n",
    "    NumericField,\n",
    "    TextField\n",
    ")\n",
    "from redis.commands.search.indexDefinition import IndexDefinition, IndexType\n",
    "from redis.commands.search.field import VectorField"
   ]
  },
  {
   "cell_type": "code",
   "execution_count": 59,
   "id": "d6ef0d1e-e1cf-45b7-8f11-5a03ab14241f",
   "metadata": {
    "execution": {
     "iopub.execute_input": "2022-11-07T21:04:03.256144Z",
     "iopub.status.busy": "2022-11-07T21:04:03.255767Z",
     "iopub.status.idle": "2022-11-07T21:04:03.260104Z",
     "shell.execute_reply": "2022-11-07T21:04:03.259595Z",
     "shell.execute_reply.started": "2022-11-07T21:04:03.256119Z"
    },
    "tags": []
   },
   "outputs": [],
   "source": [
    "block_size = 10000\n",
    "vector_field = VectorField(\n",
    "    \"vector\",\n",
    "    \"FLAT\", {\n",
    "        \"TYPE\": \"FLOAT32\",\n",
    "        \"DIM\": 768,\n",
    "        \"DISTANCE_METRIC\": \"IP\",\n",
    "        \"INITIAL_CAP\": block_size,\n",
    "        \"BLOCK_SIZE\": block_size\n",
    "    }\n",
    ")\n",
    "doc_id = TagField(\"doc_id\")\n",
    "vec_id = TagField(\"vec_id\")\n",
    "vec_fields = [\n",
    "    vector_field,\n",
    "    doc_id,\n",
    "    vec_id\n",
    "]"
   ]
  },
  {
   "cell_type": "code",
   "execution_count": 60,
   "id": "228d7e22-ac06-48be-a344-6d53870f5ed5",
   "metadata": {
    "execution": {
     "iopub.execute_input": "2022-11-07T21:04:03.744118Z",
     "iopub.status.busy": "2022-11-07T21:04:03.743791Z",
     "iopub.status.idle": "2022-11-07T21:04:03.747780Z",
     "shell.execute_reply": "2022-11-07T21:04:03.747310Z",
     "shell.execute_reply.started": "2022-11-07T21:04:03.744095Z"
    },
    "tags": []
   },
   "outputs": [],
   "source": [
    "async def create_index(\n",
    "    redis_conn,\n",
    "    index_name,\n",
    "    *fields,\n",
    "    prefix: str,\n",
    "    overwrite=True\n",
    "):\n",
    "    # Create Index\n",
    "    if overwrite:\n",
    "        await redis_conn.ft(index_name).dropindex(delete_documents=False)\n",
    "    await redis_conn.ft(index_name).create_index(\n",
    "        fields = fields,\n",
    "        definition= IndexDefinition(prefix=[prefix], index_type=IndexType.HASH)\n",
    "    )"
   ]
  },
  {
   "cell_type": "code",
   "execution_count": 61,
   "id": "8eb74f8c-84ee-413e-a075-c939ddff09f0",
   "metadata": {
    "execution": {
     "iopub.execute_input": "2022-11-07T21:04:04.778787Z",
     "iopub.status.busy": "2022-11-07T21:04:04.778486Z",
     "iopub.status.idle": "2022-11-07T21:04:04.941292Z",
     "shell.execute_reply": "2022-11-07T21:04:04.940801Z",
     "shell.execute_reply.started": "2022-11-07T21:04:04.778765Z"
    },
    "tags": []
   },
   "outputs": [],
   "source": [
    "\n",
    "await create_index(redis_conn, \"doc_vec\", *vec_fields,prefix=\"doc_vec\", overwrite=False)\n"
   ]
  },
  {
   "cell_type": "code",
   "execution_count": null,
   "id": "c59a4685-c6ef-457b-bded-8ce6eb71f390",
   "metadata": {
    "tags": []
   },
   "outputs": [],
   "source": []
  },
  {
   "cell_type": "code",
   "execution_count": null,
   "id": "5f975a8c-2c5a-48b1-ad45-5322403415dc",
   "metadata": {},
   "outputs": [],
   "source": []
  },
  {
   "cell_type": "code",
   "execution_count": 65,
   "id": "198e755b-e361-4adc-a8a1-dbee211d713c",
   "metadata": {
    "execution": {
     "iopub.execute_input": "2022-11-07T21:43:15.655275Z",
     "iopub.status.busy": "2022-11-07T21:43:15.654904Z",
     "iopub.status.idle": "2022-11-07T21:43:15.658552Z",
     "shell.execute_reply": "2022-11-07T21:43:15.658039Z",
     "shell.execute_reply.started": "2022-11-07T21:43:15.655251Z"
    }
   },
   "outputs": [],
   "source": [
    "block_size = 1000\n",
    "doc_id = TagField(\"doc_id\")\n",
    "doc = TagField(\"doc\")\n",
    "doc_fields = [\n",
    "    vector_field,\n",
    "    doc_id,\n",
    "    vec_id,\n",
    "    doc\n",
    "]"
   ]
  },
  {
   "cell_type": "code",
   "execution_count": 74,
   "id": "8ccb86a8-c617-4afb-8fbe-59d6512aff29",
   "metadata": {
    "execution": {
     "iopub.execute_input": "2022-11-07T21:51:00.056921Z",
     "iopub.status.busy": "2022-11-07T21:51:00.056541Z",
     "iopub.status.idle": "2022-11-07T21:51:00.221636Z",
     "shell.execute_reply": "2022-11-07T21:51:00.221090Z",
     "shell.execute_reply.started": "2022-11-07T21:51:00.056896Z"
    },
    "tags": []
   },
   "outputs": [],
   "source": [
    "await create_index(redis_conn, \"paper\", *doc_fields,prefix=\"paper\", overwrite=False)\n"
   ]
  },
  {
   "cell_type": "code",
   "execution_count": null,
   "id": "6524e56f-bd6b-49af-9d0e-c452b46d31e3",
   "metadata": {},
   "outputs": [],
   "source": []
  },
  {
   "cell_type": "code",
   "execution_count": null,
   "id": "bb456c8f-e65c-49bd-9613-56529eb6d8f1",
   "metadata": {
    "tags": []
   },
   "outputs": [],
   "source": []
  },
  {
   "cell_type": "code",
   "execution_count": null,
   "id": "5ef91b8a-9b01-4ff7-bffd-acac37527fa3",
   "metadata": {
    "tags": []
   },
   "outputs": [],
   "source": []
  },
  {
   "cell_type": "code",
   "execution_count": null,
   "id": "327b768a-9851-4eaf-bcca-7b7b23dfeb3e",
   "metadata": {},
   "outputs": [],
   "source": []
  },
  {
   "cell_type": "code",
   "execution_count": 17,
   "id": "758baa66-6355-421f-b05b-4b36e13c9115",
   "metadata": {
    "execution": {
     "iopub.execute_input": "2022-11-07T16:18:47.488955Z",
     "iopub.status.busy": "2022-11-07T16:18:47.488565Z",
     "iopub.status.idle": "2022-11-07T16:18:55.168634Z",
     "shell.execute_reply": "2022-11-07T16:18:55.168025Z",
     "shell.execute_reply.started": "2022-11-07T16:18:47.488928Z"
    },
    "tags": []
   },
   "outputs": [],
   "source": [
    "# import pickle\n",
    "\n",
    "# # Export to file!\n",
    "# with open('arxiv_colbert_embeddings_1000.pkl', 'wb') as f:\n",
    "#     data = pickle.dumps(df)\n",
    "#     f.write(data)"
   ]
  },
  {
   "cell_type": "code",
   "execution_count": null,
   "id": "5a9ca8b0-d228-4d4d-b102-dfa2650f4d22",
   "metadata": {
    "tags": []
   },
   "outputs": [],
   "source": []
  },
  {
   "cell_type": "code",
   "execution_count": null,
   "id": "2ce62944-5834-4996-9bd5-f1266824d574",
   "metadata": {},
   "outputs": [],
   "source": []
  },
  {
   "cell_type": "code",
   "execution_count": null,
   "id": "cdfb2ea0-40e3-432f-a5d0-60964acee3d0",
   "metadata": {},
   "outputs": [],
   "source": []
  },
  {
   "cell_type": "code",
   "execution_count": null,
   "id": "5ddde2c0-7403-4d58-ab70-7a88e9c999a2",
   "metadata": {
    "tags": []
   },
   "outputs": [],
   "source": []
  },
  {
   "cell_type": "code",
   "execution_count": null,
   "id": "d3559735-7549-41a1-99a3-a4603013fd2e",
   "metadata": {
    "tags": []
   },
   "outputs": [],
   "source": []
  },
  {
   "cell_type": "code",
   "execution_count": null,
   "id": "d66f3154-318f-4aff-8f07-319a3813b43d",
   "metadata": {
    "tags": []
   },
   "outputs": [],
   "source": []
  },
  {
   "cell_type": "code",
   "execution_count": null,
   "id": "0cba1d38-4199-472b-aaee-2fb9a7dc3825",
   "metadata": {
    "tags": []
   },
   "outputs": [],
   "source": []
  },
  {
   "cell_type": "code",
   "execution_count": null,
   "id": "36f53437-7689-4964-9ef2-79c87f4575e9",
   "metadata": {},
   "outputs": [],
   "source": []
  }
 ],
 "metadata": {
  "kernelspec": {
   "display_name": "saturn (Python 3)",
   "language": "python",
   "name": "python3"
  },
  "language_info": {
   "codemirror_mode": {
    "name": "ipython",
    "version": 3
   },
   "file_extension": ".py",
   "mimetype": "text/x-python",
   "name": "python",
   "nbconvert_exporter": "python",
   "pygments_lexer": "ipython3",
   "version": "3.7.12"
  }
 },
 "nbformat": 4,
 "nbformat_minor": 5
}

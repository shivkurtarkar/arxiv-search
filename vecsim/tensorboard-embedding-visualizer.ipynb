{
 "cells": [
  {
   "cell_type": "code",
   "execution_count": 3,
   "id": "23012127-e493-4bd8-aa5c-259b48e4cc14",
   "metadata": {},
   "outputs": [
    {
     "name": "stdout",
     "output_type": "stream",
     "text": [
      "Collecting tensorboard\n",
      "  Downloading tensorboard-2.10.1-py3-none-any.whl (5.9 MB)\n",
      "\u001b[2K     \u001b[90m━━━━━━━━━━━━━━━━━━━━━━━━━━━━━━━━━━━━━━━━\u001b[0m \u001b[32m5.9/5.9 MB\u001b[0m \u001b[31m7.5 MB/s\u001b[0m eta \u001b[36m0:00:00\u001b[0m00:01\u001b[0m00:01\u001b[0m\n",
      "\u001b[?25hCollecting markdown>=2.6.8\n",
      "  Downloading Markdown-3.4.1-py3-none-any.whl (93 kB)\n",
      "\u001b[2K     \u001b[90m━━━━━━━━━━━━━━━━━━━━━━━━━━━━━━━━━━━━━━━━\u001b[0m \u001b[32m93.3/93.3 kB\u001b[0m \u001b[31m19.0 MB/s\u001b[0m eta \u001b[36m0:00:00\u001b[0m\n",
      "\u001b[?25hCollecting google-auth<3,>=1.6.3\n",
      "  Downloading google_auth-2.14.0-py2.py3-none-any.whl (175 kB)\n",
      "\u001b[2K     \u001b[90m━━━━━━━━━━━━━━━━━━━━━━━━━━━━━━━━━━━━━━━\u001b[0m \u001b[32m175.0/175.0 kB\u001b[0m \u001b[31m5.4 MB/s\u001b[0m eta \u001b[36m0:00:00\u001b[0ma \u001b[36m0:00:01\u001b[0m\n",
      "\u001b[?25hCollecting google-auth-oauthlib<0.5,>=0.4.1\n",
      "  Downloading google_auth_oauthlib-0.4.6-py2.py3-none-any.whl (18 kB)\n",
      "Requirement already satisfied: wheel>=0.26 in /opt/conda/lib/python3.10/site-packages (from tensorboard) (0.37.1)\n",
      "Collecting tensorboard-plugin-wit>=1.6.0\n",
      "  Downloading tensorboard_plugin_wit-1.8.1-py3-none-any.whl (781 kB)\n",
      "\u001b[2K     \u001b[90m━━━━━━━━━━━━━━━━━━━━━━━━━━━━━━━━━━━━━━━\u001b[0m \u001b[32m781.3/781.3 kB\u001b[0m \u001b[31m7.2 MB/s\u001b[0m eta \u001b[36m0:00:00\u001b[0m00:01\u001b[0m00:01\u001b[0m\n",
      "\u001b[?25hCollecting grpcio>=1.24.3\n",
      "  Downloading grpcio-1.50.0-cp310-cp310-manylinux_2_17_x86_64.manylinux2014_x86_64.whl (4.7 MB)\n",
      "\u001b[2K     \u001b[90m━━━━━━━━━━━━━━━━━━━━━━━━━━━━━━━━━━━━━━━━\u001b[0m \u001b[32m4.7/4.7 MB\u001b[0m \u001b[31m8.8 MB/s\u001b[0m eta \u001b[36m0:00:00\u001b[0m00:01\u001b[0m00:01\u001b[0m\n",
      "\u001b[?25hCollecting absl-py>=0.4\n",
      "  Downloading absl_py-1.3.0-py3-none-any.whl (124 kB)\n",
      "\u001b[2K     \u001b[90m━━━━━━━━━━━━━━━━━━━━━━━━━━━━━━━━━━━━━━━\u001b[0m \u001b[32m124.6/124.6 kB\u001b[0m \u001b[31m4.1 MB/s\u001b[0m eta \u001b[36m0:00:00\u001b[0m\n",
      "\u001b[?25hCollecting protobuf<3.20,>=3.9.2\n",
      "  Downloading protobuf-3.19.6-cp310-cp310-manylinux_2_17_x86_64.manylinux2014_x86_64.whl (1.1 MB)\n",
      "\u001b[2K     \u001b[90m━━━━━━━━━━━━━━━━━━━━━━━━━━━━━━━━━━━━━━━━\u001b[0m \u001b[32m1.1/1.1 MB\u001b[0m \u001b[31m7.1 MB/s\u001b[0m eta \u001b[36m0:00:00\u001b[0m00:01\u001b[0m00:01\u001b[0mm\n",
      "\u001b[?25hRequirement already satisfied: requests<3,>=2.21.0 in /opt/conda/lib/python3.10/site-packages (from tensorboard) (2.28.1)\n",
      "Collecting tensorboard-data-server<0.7.0,>=0.6.0\n",
      "  Downloading tensorboard_data_server-0.6.1-py3-none-manylinux2010_x86_64.whl (4.9 MB)\n",
      "\u001b[2K     \u001b[90m━━━━━━━━━━━━━━━━━━━━━━━━━━━━━━━━━━━━━━━━\u001b[0m \u001b[32m4.9/4.9 MB\u001b[0m \u001b[31m9.9 MB/s\u001b[0m eta \u001b[36m0:00:00\u001b[0mta \u001b[36m0:00:01\u001b[0m\n",
      "\u001b[?25hCollecting werkzeug>=1.0.1\n",
      "  Downloading Werkzeug-2.2.2-py3-none-any.whl (232 kB)\n",
      "\u001b[2K     \u001b[90m━━━━━━━━━━━━━━━━━━━━━━━━━━━━━━━━━━━━━━━\u001b[0m \u001b[32m232.7/232.7 kB\u001b[0m \u001b[31m5.7 MB/s\u001b[0m eta \u001b[36m0:00:00\u001b[0ma \u001b[36m0:00:01\u001b[0m\n",
      "\u001b[?25hRequirement already satisfied: setuptools>=41.0.0 in /opt/conda/lib/python3.10/site-packages (from tensorboard) (65.5.0)\n",
      "Requirement already satisfied: numpy>=1.12.0 in /opt/conda/lib/python3.10/site-packages (from tensorboard) (1.23.4)\n",
      "Collecting rsa<5,>=3.1.4\n",
      "  Downloading rsa-4.9-py3-none-any.whl (34 kB)\n",
      "Collecting pyasn1-modules>=0.2.1\n",
      "  Downloading pyasn1_modules-0.2.8-py2.py3-none-any.whl (155 kB)\n",
      "\u001b[2K     \u001b[90m━━━━━━━━━━━━━━━━━━━━━━━━━━━━━━━━━━━━━━━\u001b[0m \u001b[32m155.3/155.3 kB\u001b[0m \u001b[31m4.6 MB/s\u001b[0m eta \u001b[36m0:00:00\u001b[0m\n",
      "\u001b[?25hCollecting cachetools<6.0,>=2.0.0\n",
      "  Downloading cachetools-5.2.0-py3-none-any.whl (9.3 kB)\n",
      "Requirement already satisfied: six>=1.9.0 in /opt/conda/lib/python3.10/site-packages (from google-auth<3,>=1.6.3->tensorboard) (1.16.0)\n",
      "Collecting requests-oauthlib>=0.7.0\n",
      "  Downloading requests_oauthlib-1.3.1-py2.py3-none-any.whl (23 kB)\n",
      "Requirement already satisfied: urllib3<1.27,>=1.21.1 in /opt/conda/lib/python3.10/site-packages (from requests<3,>=2.21.0->tensorboard) (1.26.11)\n",
      "Requirement already satisfied: charset-normalizer<3,>=2 in /opt/conda/lib/python3.10/site-packages (from requests<3,>=2.21.0->tensorboard) (2.1.1)\n",
      "Requirement already satisfied: idna<4,>=2.5 in /opt/conda/lib/python3.10/site-packages (from requests<3,>=2.21.0->tensorboard) (3.4)\n",
      "Requirement already satisfied: certifi>=2017.4.17 in /opt/conda/lib/python3.10/site-packages (from requests<3,>=2.21.0->tensorboard) (2022.9.24)\n",
      "Requirement already satisfied: MarkupSafe>=2.1.1 in /opt/conda/lib/python3.10/site-packages (from werkzeug>=1.0.1->tensorboard) (2.1.1)\n",
      "Collecting pyasn1<0.5.0,>=0.4.6\n",
      "  Downloading pyasn1-0.4.8-py2.py3-none-any.whl (77 kB)\n",
      "\u001b[2K     \u001b[90m━━━━━━━━━━━━━━━━━━━━━━━━━━━━━━━━━━━━━━━━\u001b[0m \u001b[32m77.1/77.1 kB\u001b[0m \u001b[31m3.2 MB/s\u001b[0m eta \u001b[36m0:00:00\u001b[0m\n",
      "\u001b[?25hRequirement already satisfied: oauthlib>=3.0.0 in /opt/conda/lib/python3.10/site-packages (from requests-oauthlib>=0.7.0->google-auth-oauthlib<0.5,>=0.4.1->tensorboard) (3.2.2)\n",
      "Installing collected packages: tensorboard-plugin-wit, pyasn1, werkzeug, tensorboard-data-server, rsa, pyasn1-modules, protobuf, markdown, grpcio, cachetools, absl-py, requests-oauthlib, google-auth, google-auth-oauthlib, tensorboard\n",
      "Successfully installed absl-py-1.3.0 cachetools-5.2.0 google-auth-2.14.0 google-auth-oauthlib-0.4.6 grpcio-1.50.0 markdown-3.4.1 protobuf-3.19.6 pyasn1-0.4.8 pyasn1-modules-0.2.8 requests-oauthlib-1.3.1 rsa-4.9 tensorboard-2.10.1 tensorboard-data-server-0.6.1 tensorboard-plugin-wit-1.8.1 werkzeug-2.2.2\n",
      "Note: you may need to restart the kernel to use updated packages.\n"
     ]
    }
   ],
   "source": [
    "pip install tensorboard"
   ]
  },
  {
   "cell_type": "code",
   "execution_count": 4,
   "id": "50198846-ad58-4bf2-80ae-93d1816f7c60",
   "metadata": {},
   "outputs": [],
   "source": [
    "try:\n",
    "    %tensorflow_version 2.x\n",
    "except Exception:\n",
    "    pass\n",
    "%load_ext tensorboard"
   ]
  },
  {
   "cell_type": "code",
   "execution_count": null,
   "id": "e0d47136-8001-4227-b57c-549e1196004d",
   "metadata": {},
   "outputs": [],
   "source": []
  },
  {
   "cell_type": "code",
   "execution_count": null,
   "id": "50640ef4-5d5c-4ba8-ba88-712d45bd21de",
   "metadata": {},
   "outputs": [],
   "source": []
  },
  {
   "cell_type": "code",
   "execution_count": 4,
   "id": "8d5d1f87-d721-4381-bb60-ac115d83a58e",
   "metadata": {},
   "outputs": [
    {
     "name": "stdout",
     "output_type": "stream",
     "text": [
      "/home/jovyan/vecsim/src\n"
     ]
    }
   ],
   "source": [
    "cd src"
   ]
  },
  {
   "cell_type": "code",
   "execution_count": 8,
   "id": "af296e60-0d99-4e55-93b5-8c441fe7c7f5",
   "metadata": {},
   "outputs": [],
   "source": [
    "from indexer import Indexer\n",
    "from retrival import SearchIndex # Retriver\n",
    "import time\n",
    "import pandas as pd\n",
    "import pickle\n",
    "\n",
    "import asyncio\n",
    "from redis.asyncio import Redis\n",
    "\n",
    "\n",
    "from redis.commands.search.field import (\n",
    "    TagField,\n",
    "    VectorField,\n",
    "    NumericField,\n",
    "    TextField\n",
    ")\n"
   ]
  },
  {
   "cell_type": "code",
   "execution_count": null,
   "id": "300750f0-7eaf-4df1-b176-5425381e6b45",
   "metadata": {},
   "outputs": [],
   "source": []
  },
  {
   "cell_type": "code",
   "execution_count": 29,
   "id": "04e8bef9-b682-498d-9c3e-07c192b3aa79",
   "metadata": {},
   "outputs": [],
   "source": [
    "redis_conn = await Redis(host=\"redis\", port=\"6379\")"
   ]
  },
  {
   "cell_type": "code",
   "execution_count": 30,
   "id": "6247cde7-256c-4249-99b4-1be751f7a05f",
   "metadata": {},
   "outputs": [],
   "source": [
    "search_index = SearchIndex('docs', redis_conn)"
   ]
  },
  {
   "cell_type": "code",
   "execution_count": null,
   "id": "37857dad-fdd2-4b16-bb82-c750e45692ba",
   "metadata": {},
   "outputs": [],
   "source": []
  },
  {
   "cell_type": "code",
   "execution_count": 31,
   "id": "57c38f38-2fc2-494c-a878-3dc0ef33ef27",
   "metadata": {},
   "outputs": [
    {
     "data": {
      "text/plain": [
       "593969"
      ]
     },
     "execution_count": 31,
     "metadata": {},
     "output_type": "execute_result"
    }
   ],
   "source": [
    "await redis_conn.dbsize()"
   ]
  },
  {
   "cell_type": "code",
   "execution_count": null,
   "id": "aeb08c11-e982-4d03-aff9-26e828f5cb7b",
   "metadata": {},
   "outputs": [],
   "source": []
  },
  {
   "cell_type": "code",
   "execution_count": 48,
   "id": "64259791-6c50-4914-8ee6-d43e1e08a734",
   "metadata": {},
   "outputs": [
    {
     "data": {
      "text/plain": [
       "b'\\xe8\\x9c\\x8a;T\\xed\\xb7\\xbd\\x9d\\x8d\\x1b\\xbdp\\xb1\\x7f>\\x9dz\\x1d\\xbep\\xb5\\x16=\\x8e\\xcdH=[m\\xd6\\xbcAW^\\xbe\\x14\\x0e$;\\xe21\\xe8=\\xb8\\r\\x9e;\\xdc\\xc5\\xc0=\\x06\\xd4->H\\t\\xc4\\xbd6\\xbc\\x15;7\\xf6Q=\\xf0\\xe9\\xae=C\\x02\\xa3=x]\\xc3<\\x8e\\xf2\\xe6=,f\\xe6=h\\xbf\\x9b=\\\\9\\xaf\\xbd&\\xaf\\xef<\\x10G\\x90<%\\x9b\\xc9=D\\xae=<\\xf4.\\x16=_\\xc2\\x7f=o\\xb2\\x84:+QE>\\xdef\\xf0\\xbb\\xf7\\xebd=<\\x8a\\x9e=,\\x14\\x9e<\\xf4\\xba\\x9a;w5\\xbd=\\xaa\\x18*=b\\xae\\\\\\xbdQ[\\xd9\\xbdj\\x0f\\x06\\xbc\\x7fJ\\x9e=z\\x06\\x1c;V\\xefy\\xbd\\xa8L\\xa7\\xbb%6\\x9e<~\\xc0\\x18\\xbe\\xfay\\xad=\\xca\\xc3\\x93=\\x97\\x83R\\xbc\\xd9\\x13\\xda=-\\xdb\\xb9=\\x1e\\xf3\\xb8<`\\x1f\\xc7\\xbd\\xb0\\xfd1\\xbcv\\xba\\x8d=\\xc0\\x19\\x8a\\xbd\\xb3\\xbb\\xf0=\\xe9\\xb4;\\xbdt\\xc2\\x1b=h{\\xc7;p\\xe7\\xcb<d\\xf2w<\\xaa\\xd7\\xf5\\xbb\\xc0:\\x0f=;F:>N\\xc6O=\\x94c\\x8e=S\\x8b\\x04\\xbe\\xa0\\x9d^\\xbeH\\x9c\\xa8=`\\x92\\x9a\\xbc\\xdd5\\xa5=\\xaa\\xe4i\\xbd\\'.R\\xbd\\x8a3\\xc0\\xbd\\x16B\\x14\\xbe\\xe1\\xff\\x19\\xbd\\xf5\\x17\\xb8=8\\xa7%\\xbe[_\\x01\\xbe\\xbf\\xb68\\xbe\\xe2\\xdbo>\\x9f\\x05\\xad\\xbdeC\\x93\\xbd\\x1c}\\xba=GS\\xac\\xbd\\x8e\\x9c\\x07=\\xa9\\x10\\x0f>\\'Re<\\x88\\x86\\xfa:\\x14D$\\xbe\\xc8M\\xb5=0]\\x80\\xbc\\xd8\\xe3\\xcd\\xbd|\\xb3\\x16\\xbd\\x14D\\x03\\xbe\\x10\\x97\\x9f\\xbd\\x0c\\t\\xc4;\\x90&.\\xbc\\xdd0\\x1c>\\x8b\\xe6\\xbd=~]\\xba\\xbc\\xa8\\x1d[=Ln(>\\x81\\xff\\xed=\\xd7\\xd4\\xaf\\xbd\\xba%\\xb3=\\x82\\x94\\x11>\\xfc\\xc4\\xbd\\xbd9w\\xb2\\xbc\\x8a\\xde\\xe5\\xbd\\xe3\\x17\\x8e\\xbd\\x9e\\x81\\x8a<\\x04+\\x80>\\x80\\xd9\\xcf:@\\xcbS=\\x16\\xd3\\x1b>\\x99A\\x8d=Z\\xe2d\\xbe\\xc4o\\x88\\xbd^\\xbc6\\xbd@\\x18.\\xbe\\x98k\\x9b=d1\\xf5\\xbd\\x9c\\x99\\xaf\\xbd\\xae\\xf1\\xbf=\\xa2\\x0f\\x9c\\xbd\\xee`\\r\\xbd\\xe9\\xf14\\xbd\\xa8\\xb7\\x8e\\xbd\\xdc\\xc6\\xf4\\xbd\\xcf\\xe1-\\xbd\\x1b\\xe3\\x94\\xbc\\x1a;h=H\\x91\\x9b\\xbd\\x0f\\xd6\\xf1\\xbd:u\\x00\\xbc}\\x0c\\xa4>\\x84u\\x9d=4\\xba$\\xbe\\x07\\x83\\x96:\\xecJ?=z\\xa4\\xef\\xbc\\x07e\\xfb\\xbd\\x87\\xa4+>[\\xf9>\\xbd_C.\\xbek\\xa0W>\\x98\\xb4l\\xbc\\xd6\\x19;\\xbdq\\xaf\\xc4\\xbc0#\\x9c=\\xc4\\x0e\\xc2\\xbd\\xa3i\\x90=\\xe8\\x9aJ\\xbc\\x14\\xee$<\\xad\\xa4\\x1f>\\xc6\\xaap=m\\xefI>Z\\x0e0=|\\x0c\\xa8\\xbd\\xd8\\xee\\x1f;B\\x9c=<n\\x02\\xc4;\\xa3\\xfd\\xe8=4Z\\x8a\\xbd\\x98\\xf0F<\\xa2}\\x9d=\\xd1:\\xc3\\xbdC\\xcd\\x98\\xbdt\\x1a\\x1b>\\xb1\\xa9<=-\\xb3d\\xbe\\xe9\\xc4!\\xbe\\xabkz=\\x0f\\x12\\xde\\xbc\\xe0/C=u\\x97/>\\t\\xfd\\x90\\xbd\\x98\\x0e\\xb7=M\\x039\\xbe\\xc1\\xc0\\x9d\\xbdG9\\xa0=\\x88\\xc6\\xf7\\xbd\\xea\\xf2\\xb4\\xbb\\x88\\xe5\\xc1<\\x81\\xe2P\\xbd\\xe5\\xee\\xa5\\xbd}?W=\\xd0\\xd2O\\xbd~c\\x9a\\xbc\\xb2\\x8fJ\\xbdz\\xc1\\xc7=\\xae]\\x0e=\\x02H\\x10>\\x84\\xda,\\xbd\\x84\\x9e0\\xbcG\\xce:>$._=\\xe7\\xe4\\xdc=\\x8e\\xc4o;\\x9d\\x1fY=\\xd8>\\x97\\xbd\\xd9\\xd0x>\\xa2m\\x18=d9\\x05\\xbc\\xac\\xa0a=\\xfc\\x81S=\\xbe2\\x08>\\xef!e\\xbd\\x17\\xec1\\xbd\\xec\\xcd\\xc8\\xbc\\',\\x96=\\xe9\\xec|\\xbc\\xfbI\\x1e<\\xd2(,\\xbd\\x81/<\\xbd\\x0b\\xb9\\x12\\xbe\\x92S\\xc0\\xbc\\x16i\\xf4<\\xdd\\xbf\\xfb<\\xef\\xda\\x0b>\\xa2\\xd2\\x88=tU\\x90\\xbeo\\x83\\xb6=D\\x1a\\xc6;\\xb1\\xdc\\xb5=OT\\x9b\\xbb\\xf7\\xdf\\x88\\xbd\\xed\\x00\\x85=Z\\x94\\x92\\xbd\\xf5\\x8d\\xa2=\\xf8S&=\\x96\\xef\\xdf\\xbc\\xaf\\xc6\\x0e\\xbc%\\xf0\\xa5=\\x814\\xf7\\xbd\\'\\xd7p=j\\x7fx\\xbd\\x8dR\\xb8\\xbd(\\x99o=Y\\x7f\\xd8\\xbc\\xaf\\xed\\xc6<)\\x0c\\xb6\\xbcE\\xd3\\x8b\\xbd\\xee\\xe3\\xbb=\\x98\\xa0\\x0b>\\xecg\\x9f<\\xaa\\xc3N\\xbd\\x8d\\xf0Y\\xbd\\xd0\\xf4\\xfc=\\xbb-\\x02\\xbe\\x1d\\xbd@>:\\x04\\x03>k\\x8aT\\xbd\\x18T\\xed;vF\\x9e\\xbd\\xed\\x07\\xbe<\\xa8\\xca\\xba\\xbd~\\xc3\\x90\\xbd\\x9dd\\xc2=\\xe8\\x11\\xe9<\\xee\\x1fh<(\\x94\\xa5\\xbe\\xf5\\x89y>\\x19\\xae\\xf1\\xbc\\xf8\\x92j\\xbb=\\xca\\xa3\\xbcz7\\x05=\\xe0\\xdb\\xc3:A\\x81p=l\\xd7/=d\\x9e\\x8b<\\x08\\x02\\xe4<\\xa0^\\xc9<\\x04\\x88\\xe2=\\x18\\xa6@<\\x10\\xd4\\xd5=\\xad\\xd1\\x00>\\xaa^\\x80<\\xa1>\\xbd=\\x82h\\x04\\xbd9\\x12T\\xbd\\x16Y\\t\\xbe\\x00\\xb7\\xa5\\xbb\\'\\xc9C\\xbe:\\x97\\r>\\n<\\xdf\\xbd\\xd3i\\xcf\\xbcy\\r\\xcb<j]\\xae\\xbd{\\xa9h\\xbeG\\x88\\xac=.\\x96\\xce=\\xf0\\xe94\\xbd\\xe8\\xcaK<\\xdc@\\x98<\\x01W\\xd8\\xbd\\xba\\x1d\\xae=\\x80\\xe9j8\\x1a\\xdd\\x8b\\xbe\\xb2 !=N\\x9e\\x83\\xbd\\x0b\\xde\\x04=\\x83\\xad\\xb8\\xbcbvb\\xbdF\\xf6/<\\xc7\\xf9W>\\xa1\\tx\\xbd&n\\x0b\\xbd(,q<\\xe0l\\x85\\xba}\\xb4\\xb1=b\\xfb\\xfe\\xbc\\xc2\\xad*\\xbd\\xa4\\xfb\\xfe\\xbc5\\x85N\\xbd\\x82\"\\x06=\\xb27\\xa9=84\\xb0\\xbb\\xd4\\x9fw<|0\\x89>28\\xee;IkT\\xbe\\xfa\\r\\x90>\\x18\\xecW\\xbd\\rn\\xae\\xbdF[\\x05\\xbc%F\\x8f= l\\xa7\\xbd6\\x14~\\xbc\\xac\\xc3$<\\xe4\\x00)<@\\xa1\\xb29\\x00\\xa3X\\xbb\\x9b\\xd2\\x84\\xbd\\x08\\xdb\\x7f=R\\xcc\\x8b=\\xa6T\\xc8<p\\r\\x07>p\\x1cg=\\xb9\\xa0w\\xbd\\xfd\\xf0\\x9a\\xbe\\xe7Ft>@mL\\xbd\\n=\\x04\\xbe\\xbb\\x01\\x91\\xbd\\xfd\\xec\\xb6\\xbd\\x14E>\\xbd|\\xff\\xa9\\xbeX\\xcf\\xdb\\xbdp\\xcd\\x8e<\\xf4yU\\xbd.\\x8e%\\xbdT\\xee\\x7f\\xbc\\xe5W\\x97\\xbc\\x8d\\xafy\\xbd\\xcd:\\xa0\\xbd\\x80\\xaf\\xc6\\xb8\\xc8\\xbd(>J:\\xb3\\xbc\\'\\x96\\x9d=n\\xdd\\xbe=m\\xf0\\xa3=\\xbb\\x19w>;\\xa3\\x1a\\xbd\\xae\\xb2+>\\x06\\x8fn<e\\x93\\xda\\xbd\\x98t\\xbd\\xbd\\x0e\\xaa\\xfd=F\\xc3M\\xbd\\x9a\\xda\\x1b\\xbd\\x0b\\x16\\x89=n\\xcb\\x15>\\xd8\\x17\\x1d>\\x0f^j=\\xf3\\xe3D\\xbd\\x1dw^>-_\\'\\xbe\\xa6U.\\xbe\\xd8X]>\\x90\\xed)=R\\xc8\\xce\\xbcXP\\x0e\\xbdxh\\xcc\\xbc\\xc7-3=\\x08\\x84\\xf0=\\x08\\x14\\x85\\xbb\\x14G-\\xbe\\x94\\xc6\\xfc\\xbd`gv=\\x8c`\\xf7\\xbc\\xfe\\xa8\\x12>\\x8b\\x0e\\x02>\\xb2\\xca\\x1e=\\xae\\xdf\\xa6=\\xe2*\\x0b>,\\xfc\\x1f>\\x98\\xcew<{rc=`\\xda\\x1f>\\xa8\\xaa\\x80\\xbd\\xe4e)\\xbd\\xda\\xd8\\xdf\\xbd\\xb6\\xb7\\x10=Q\\x1b\\x17\\xbdz\\xc0W\\xbd3\\xdd\\xc0=\\xf8\\xbct\\xbd$}\\xbd<\\x8f(\\xca\\xbc\\xe5\\xd4\\x8b\\xbdD)\\x90\\xbd\\xad\\x8b\\xee=Y\\xdaF\\xbd<\\xf38=N\\xc4Y\\xbef\\x90I\\xbc\\xff\\x05f>\\x90x)\\xbb\\x96EQ\\xbd\\xf5\\xae\\xb2=\\xady\\x0f\\xbeXF\\x06>\\x88>\\x0b\\xbd\\x0e\\xc93=\\x99^\\x11=-\\xff\\xe9\\xbd|n\\xbc;h\\xb66<k\\x9f >KV3\\xbd\\xad\\xbe\\xac\\xbd\\x88\\xd5\\x86\\xbc\\x00\\xceo\\xb9\\x8aP\\xdc\\xbd\\xa8\\x16\\t;L\\x92\\x03\\xbeC0\\xa7\\xbc\\n\\xb5\\x8a\\xbd\\x9b\\x82\\x0f\\xbe\\xd6\\xd7\\xa0<\\x88\\x16\\xf3\\xbd\\x00p\\xec:\\xec\\xe4\\x00>\\xff\\x14\\x1a=O^\\n\\xbd\\xce\\x07\\xbe\\xbcBw\\xb6=n\\x19\\x80\\xbb*\\xd3\\xc5<\\xa2g\\x08=|\\xbfL\\xbe:\\xd2\\x9c;\\x0ex\\x82=\\xea\\xbd\\'=Ln\\x80=\\xa0\\xdc\\xac:\\xd1#\\x80\\xbd50\\x85\\xbd\\xee>6\\xbe\\x810H>\\r\\xad\\xef<4\\x05\\xbd\\xbc\\xe7\\xb1\\x89\\xbd>\\xa2\\x18>\\xc4V\\x19>\\x12%\\xb8\\xbd.J}=\\xe9\\x8f\\xc8\\xbd\\x10\\xb8\\x96\\xbd\\xa9W\\xec\\xbdz&o\\xbd\\xe7\\x89\\xd8\\xbd\\x9f~\\xfa\\xbdl\\xb2\\xa7=\\xdf\\xf2\\xac\\xbcx\\x14\\xa5\\xbb\\xdf<.\\xbdV$@=0\\x9d\\x86;x!\\xe5=\\xe1\\x83K\\xbd\"\\xa7\\xab\\xbdJd\\x1f\\xbeB\\x0e7>S\\x1f\\xec<\\x82\\xa7\\x00\\xbe(\\xddf<\\xe4\\xc7P\\xbd\\xcau:\\xbd\\x98L:<\\x8a\\xf9\\t>|\\'$\\xbe\\x0e\\x05==\\xc3\\xf3\\xbc=P\\xd5\\xcf\\xb9\\xa2\\x02\\r\\xbd\\xfc\\xbd\\t\\xbbYr\\xbd=*?j>\\xd0\\xd0\\xa3=n\\xb4\\xa4\\xbd\\xf5_\\xee<\\x92\\xb8g<\\xd0U\\xe0<b\\xf6\\xd9\\xbb\\xc0UP\\xbb\\x00\\x9a\\x91\\xb8\\xe1\\x9fZ\\xbc\\xe1\\xce\\xfc\\xbd~\\xba\\xed<\\xcf\\xc0Z\\xbd~L\\xe0<\\xffH\\x94<0\\xddn\\xbd\\x10AG;\\xa0I\\x80<\\xb0\\x95%;\\x9en}=\\xb2\\xa1\\x07=]\\xcc\\xaa\\xbd\\xc2c\\xab=\\x04\\xfb\\xab=W\\x9a@=\\xcc\\xfe\\xa7\\xbd\\x10\\x03\\x08\\xbeL\\xa0I<\\x82\\x9e\\\\\\xbd3d\\x8e\\xbd\\xe9\\x06\\xfd\\xbd\\x81n\\xd5<\\xc9(\\x95\\xbd\\xe7d\\xd8;\\x80I =\\xb6n\\n\\xbe\\xa2\\x91\\xfa=<M~=z7\\xdc=\\xe6/\\xc5=\\xb0m\\x19\\xbe\\xff\\x8at\\xbc[W\\xd6\\xbd\\x8a\\xa7\\x9a=\\xf2\\x80\\xb0\\xbdU|\\x02=\\xf8\\xfb\\x89\\xbe\\xce\\x020\\xbe\\x10oe\\xbdxt^\\xbc(\\x80\\x86\\xbd\\xaa}G\\xbc\\xd0O\\x96;\\xbb@\\x0f=\\xf1i\\x1e\\xbe\\xc65+;x\\t\\xa4\\xbd\\xe6[$\\xbe\\n\\r\\xdc\\xbc)7\\xa9\\xbdVY9<\\xcb\\xaf\\x8f\\xbe.2G\\xbd\\x08N\\x90;\\x00\\xdb\\x00\\xbd\\x01\\xac\\x01\\xbe\\xdaG\\x1f=\\x8fo\\x02\\xbd\\xf0\\xd2\\xf4:\\xe1\\x1e\\x0e=\\x9c\\x8c\\xea;\\x84\\t\\x92\\xbc\\xf4\\x922\\xbe^A\\xb2=\\x16\\xa7\\xcd;\\x90\\xe3V=\\xffp\\x0f\\xbe\\xd4\\x01\\x89<\\x90\\xbf4:\\xc6\\xa0\\xc4=\\xd1\\xc3\\x90=\\xba\\xa3\\x0e\\xbe\\x98\\xe7\\xec=\\xb4\\x14\\x13\\xbd\\x16\\xd5\\x8d={j4\\xbe\\x80\\x08\\x99\\xba\\xcc\\xf7!\\xbe&]\\x11\\xbd\\xc4\\x90\\xe4=#\\x8d\\xc0<\\xb2Ck\\xbeA,c=\\xab\\xbf\\xad\\xbd\\x1f\\xf9\\x04\\xbd\\xe0hi=\\xa0\\x9f\\xa6=\\xbe)\\x07=\\xf6\\xd7\\x82\\xbc4\\xbf\\xa2=\\xf2D\\x81\\xbc&\\xb0\\xc5\\xbde\\x02\\x8f\\xbd\\xa7.\\xb5=(\\xe4\"=(\\x0c\\x91=zb\\xe5<\\xc1\\x9e\\x1f>\\xb6\\x1c\\x10\\xbc\\'9\\x83\\xbc\\x96#\\x1c>\\x8e)\\x8e<\\xf576\\xbe\\x81\\xcd9>\\x8c\\xb3r=n\\xa5\\x8d\\xbd!\\x08L=\\xf7\\n\\x1e>N\\xc2\\x18>\\xc4!\\xcf\\xbd\\xa5\\x9b{<\\xb4\\x01\\xbb\\xbdp\\xf8\\x1f;x\\xdc\\x90<wj\\xe5<U\\xef\\xad\\xbdr\\xb9\\xe8\\xbd\\x9c}\\x11\\xbd\\xb4@+\\xbd\\xea\\x86\\xfc==X\\x98\\xbdl\\xb5x\\xbdu\\n\\x15\\xbe\\xd9\\xd5\\x97= 8\\xf6=Cl\\x00\\xbe\\xaaO\\x9c<G\\xe4\\x03\\xbeH\\x98\\x9e\\xbd\\xfa\\xf0\\x8c=\\xdb\\x0b\\xec\\xbdX9\\x94=p\\'e\\xbc\\x88k\\xa7\\xbd\\xa9\\r\\xb9=\\xfa\\xf2,>d\\xb3\\x14\\xbe\\\\\\x1e\\xbb<\\xc9D\\x06\\xbd\\x81y\\x00>\\x82~N\\xbd\\xa5n\\x1d<\"\\x06\\x19<`#\\x92\\xbd\\xc4P\\x11\\xbe\\x06}\\xde=\\x17W%>\\xe3\\xbao\\xbe,\\x8a\\x0b=W\\xe3\\xb6\\xbd\\xea\\x1f\\xa5=l\\xb1\\x8c\\xbc\\x1e\\xb2)\\xbdN\\xa8\\x8c\\xbd\\xb1\\x06*=\\xd7Y\\x04\\xbe\\x05\\xf4\\xfe\\xbd\\xd9A\\x14\\xbd\\xd0\\xd8\\xbb\\xbd@\\xe2\\xb8=\\x94\\r/<\\xff\\xf1\\xf4\\xbc\\x0f!\\xbe<6\\x10\\x96\\xbd\\x98=\\x94\\xbd(\\x89!\\xbd\\x06\\x99\\xdc<\\x1b\\xdf\\x98\\xbd\\x7fz\\x84\\xbc\\xfbj(\\xbe\\x11f\\xad<\\xb0}\\xcb=w\\xb1\\x82=\\x07\\xc6\\xa9\\xbcBZ\\xc3<r\\x9d\\x12<\\xe9\\x91\\xf8\\xbd\\xa0<\\x80=\\x02M5=\\x1ax?\\xbeZ\\nP\\xbe\\xafu\\xac=d\\x08\\xf6\\xbb\\x8c?\\xf8\\xbb|\\xae\\xa4\\xbd|\\xab#=\\xac-\\xc5\\xbd\\xd0b->\\xd7\\x7f`=\\\\\\x8a\\xce\\xbd%\\xf9A\\xbd\\xa00\\xae\\xbd\\x15\\xa4C=\\x007]:l\\xc4\\x90\\xbd,2v\\xbc\\xda\\xa4\\xa8\\xbd]\\x9c\\x81=\\xb8\\x11\\x16\\xbe\\xb4\\x11I=V\\x1c\\x01\\xbdA\\xadA\\xbdn\\xf3\\x06\\xbe\\xca\\x97\\xa8\\xbd\\xe2P\\xaf\\xbdE\\x03\\x03\\xbe\\xc5m\\x0c>H\\xb1\\x1a\\xbe&@\\xf2<\\xa8>K=\\t\\xf0\\xfc=\\xe2\\xa9&>\\xb2\\xfe\\x01\\xbeb#>\\xbc\\xec.\\xeb=v\\x0e\\t\\xbdT\\xc2\\x87=\\xfc\\x93\\x03=\\xcd\\xcd\\x8a=\\x9e\\x99\\xb2\\xbd\\xff\\xf9K\\xbd\\x8a\\r\\x88=\\xc7\\'e>\\xec\\xfb\\x15\\xbe\\xde\\no=\\xe07\\x07;\\xf5?F\\xbc\\x00\\xb4:\\xba`)\\xc39`a\\xd3\\xbb\\x12\\x81\\xc7\\xbc\\x12\\x98\\x9d\\xbdd\\xb7\\x83=\\xca>\\xb8\\xbcP\\xad\\x01\\xbd\\xbe_\\x13=\\xfb\\xbb\\x8c<\\x01dm>\\x14\\xe7\\x13>\\xe1\\xa4P\\xbd:\\xd3\\x1c\\xbeX\\xd2Z\\xbd\\x98\\xe6:=\\xac\\xca(=\\x90\\xe6\\x1f>3=\\r\\xbd\\xf8*9<D(.=\\x86{\\xbe\\xbdpN/>\\xcf\\xccU<\\'\\xdc\\x04=\\x911\\x11>6BP=\\xd3\\n*\\xbe'"
      ]
     },
     "execution_count": 48,
     "metadata": {},
     "output_type": "execute_result"
    }
   ],
   "source": [
    "vector = await redis_conn.hget('doc:1-1', 'vector')\n",
    "vector"
   ]
  },
  {
   "cell_type": "code",
   "execution_count": null,
   "id": "54d96343-e604-4b10-ac6b-6dfa160abbea",
   "metadata": {},
   "outputs": [],
   "source": []
  },
  {
   "cell_type": "code",
   "execution_count": 35,
   "id": "53c87076-79ef-44ed-b569-a757b169f558",
   "metadata": {},
   "outputs": [],
   "source": [
    "# Fetch one random paper from Redis to test\n",
    "async def fetch_one(redis_conn):\n",
    "    async for key in redis_conn.scan_iter(\"doc:*\"):\n",
    "        return await redis_conn.hgetall(key)"
   ]
  },
  {
   "cell_type": "code",
   "execution_count": 36,
   "id": "bf281400-aecc-4c85-a48e-c8374ad98241",
   "metadata": {},
   "outputs": [],
   "source": [
    "doc = await fetch_one(redis_conn)"
   ]
  },
  {
   "cell_type": "code",
   "execution_count": 37,
   "id": "092e9c81-ee35-4567-89a3-6350db02603e",
   "metadata": {},
   "outputs": [
    {
     "data": {
      "text/plain": [
       "{b'doc_id': b'844',\n",
       " b'doc': b'On predicting research grants productivity  Understanding the reasons associated with successful proposals is of\\nparamount importance to improve evaluation processes. In this context, we\\nanalyzed whether bibliometric features are able to predict the success of\\nresearch grants. We extracted features aiming at characterizing the academic\\nhistory of Brazilian researchers, including research topics, affiliations,\\nnumber of publications and visibility. The extracted features were then used to\\npredict grants productivity via machine learning in three major research areas,\\nnamely Medicine, Dentistry and Veterinary Medicine. We found that research\\nsubject and publication history play a role in predicting productivity. In\\naddition, institution-based features turned out to be relevant when combined\\nwith other features. While the best results outperformed text-based attributes,\\nthe evaluated features were not highly discriminative. Our findings indicate\\nthat predicting grants success, at least with the considered set of\\nbibliometric features, is not a trivial task.\\n',\n",
       " b'vector': b'O\"B=2\\xe8{<\\x15u\\x93\\xbd\\xe0\\xa7;>\\xd4\\xe4\\x1a\\xbd\\x04\\xf2\\x1c\\xbd\\xf3-\\xd7\\xbc@x\\x87\\xbd\\x91\\x95\\x06\\xbeLN\\x87<t\\x08?>\\x08k\\x0f<f\\xfe\\x95=9(\\xa3=\\xa0\\xb5\\x8f<{\\xf0\\xdd\\xbdSND=\\x9f!\\xa7=\\x0c\\x99\\xeb=\\x08{*>\"\\x04\\'=t\\xd0\\xd2<\\x90\\xb9\\x1c>\\xf2:\\xb4<\\xbco\\x9f\\xbdb8\\x1e\\xbe\\xe0@&=^3\\x8a=\\xc5\\xa3u=BXy>\\xc24\\xce\\xbd\\xf2\\x8f\\x19>\\xb6\\xb0\\x97\\xbdX\\r\\x16>\\xc6>\\xc9;\\x94\\xb5\\xd0\\xbd\\x88\\x90\\x9e=|H\\xed<\\xe3\\xed\\x9f=0\\r1\\xbd\\x80\\x0br=H>\\xdd<\\xc78\\xe3\\xbd<\\xed\\x13<\\xb9\\x1b\\xed\\xbdTf\\xf8\\xbd\\xe2 \\xaa\\xbd+\\xda_\\xbd-\\xad\\x1c>ln\\xeb<\\xa77\\xa2\\xbd\\xf8\\xcf]\\xbc\\xd4m<<@\\x9c\\xf0\\xbav\\xfb\\x0e\\xbe\\xa1\\x9f\\x86\\xbd\\x98\\r\\xe6<\\xd4\\xe2\\x83\\xbd|\\x10O=*\\x81\\xb4<\\':%>\\x08F\\x12=\\xba/\\x85=I\\x1aK\\xbe\\xad\\xa3,=CP4=\\x12\\xb2\\x8e\\xbd\\xac5\\x03=\\xb6\\xb4\\x0c>au\\x85\\xbe\\'\\x84\\x95\\xbd\\xf5\\xbd\\x94=\\xcc\\xdd\\x15\\xbe\\xc4\\x8bU<Z\\x0c\\x03\\xbet\\xfb\\x89\\xbcNon\\xbdBH\\xd5\\xbd\\x00\\x80\\xa2\\xb9v\\xe8\\xf3\\xbc\\xa8V\\xed\\xbcQ\\xb4\\xa2\\xbd\\xc8!\\xf9\\xbdOx9>|G\\t\\xbdp\\x0f\\xe9\\xbb\\xfe\\xad\\xa0=\\xe3\\x145\\xbe(\\xf7&=\\x88L\\xc0=F\\xef,\\xbe\\xa3x\\x97=\\x8fU\\x13\\xbe\\xec\\x9e\\xe6=\\x864.\\xbc7\\xd1\\x8f=c\\xa4\\xf0<\\x0c\\xc1\\x8f\\xbd\\xc0\\xca\\x0f\\xbd\\x06\\\\q=\\x1e\\xce\\xf7\\xbdzm@>l1/>\\xc0s\\x12\\xbc~X.=\\xca}N>8\\xa2X;P\\xd5\\xa8;Bg\\xf6=t\\xcfb>b\\xb0\\xc1=\\xbf6\\x10\\xbe\\x04\\xe0\\xff\\xbdJ\\xf3\\x94\\xbd\\x8ez2=\\x91W\\x80\\xbd\\xa8e\\x96=\\\\(2\\xbe`\\x83N>\\x8e\\xf5\\xf1=\\xec\\xaf1\\xbe\\x06\\xc3I=\\xbeL\\xe6\\xbc\\x11)\\xd9\\xbd.\\x1c\\xd2=o\"E\\xbd\\x05\\xf1\\xd4\\xbc\\x9c6*\\xbd\\xd8\\xc0\\x0f\\xbe\\x7f\\x93/=ZT\\xc2\\xbd\\x1a\\x18\\xd8\\xbdY\\x99\\xc7\\xbc\\xe1\\xf9d\\xbd\\x92^\\xb2\\xbd\\xc6\\xd0\\x03\\xbd`\\xc6\\x88=T,\\xc9\\xbb\\xec\\x84\\xcf=1\\xb9\\x8c>\\x83W\\x97<\\xde\\xa5\\x0f\\xbe\\xf4d\\x8c<4\\xe3\\xb9\\xbc\\x1c\\xbb\\xc5\\xbc\\x97\\xd3\\t=\\xcaY2>\\xce\\x8c\\x90<o?L\\xbe\\x87r\\xa5>B\\x07\\x11\\xbdk\\x12a=\\x88&\\x0c=F\\x0c6\\xbc\\xc09M\\xbe\\xc5\\xa1R=\\xd3\\xd8\\xa5\\xbdL-\\xaf;\\x8aZ\\xf6<\\x01r!\\xbd\\xec\\\\^>\\x98\\xe8\\x8a=\\x87=\\xfd\\xbd\\xde\\x05\\xd9\\xbc`\\xa3\\xd8\\xbd~\\n\\xed=\\x90\\xaeR>6:\\x94\\xbdbB\\xe8\\xbc`Vi<\\x1bc\\x8c\\xbd\\t\\xf9\\xa9\\xbdZ=!>\\xac\\x89\\xfc=\\xaa\\xd7\\x95\\xbelA\\x7f<ZZ\\xbe<\\x0e\\x813\\xbd\\xe7g\\xaa<\\x1e\\x8aV>\\r\\x87\\xd2=\\xa1\\xc4\\xde<v&\\'\\xbe\\xdf\\xc8\\x87<Px\\x01\\xbbw\\xe8\\xcb\\xbd\\xfc\\xaf\\xdf\\xbc\\xf8\\xa7\\xce\\xbcx\\'W\\xbc\\xc9D)\\xbe\\xfap`\\xbc\\x91ZX\\xbc\\xa4o\\x0e\\xbbvC_\\xbd \\x06\\xee=\\xb2\\xe7\\xce=bY9>\\x92\\xeb#\\xbd\\xb0\\xd0(\\xbe\\x99\\xdf\\x91=\\xea\\xd5\\x8b>\\x00Y[>\\xf6\\xe8\\x0e\\xbe\\x04\\x80\\x89<\\xf0\\x19\\x92=\\xad:\\xdc=\\xd9\\xda\\xec\\xbd=+\\xe1\\xbb\\xfe\\nJ=\\xd8\\x9e\\x1e\\xbdR\\xf2G>\\x94\\x16\\x97\\xbd\\x02\\xf5\\xb4<\\xdc\\x92\\x91<\\xb9]^\\xbd,q\\xb8\\xbd\\xc4\\x8d\\xca\\xbc\\x07\\xf6\\x98\\xbd\\x00\\xce\\x9a\\xbd\\xce\\xaaR\\xbek\\x03\\xf9\\xbc/H;<\\xac\\xf3\\xac=\\x1aD\\x8d>\\x16PQ=\\xcbLq\\xbe\\x07\\x85\\x81=\\'8\\xd9=\\xf8\\xc4\\xbb=\\n\"\\xbe<\\xccs[=\\xc1\\xc8\\x02\\xbc\\x06Y\\x9e<g\\xe0?>\\x1aC\\xf8=\\xcc\\xbd\\xce=\\x14h,\\xbd\\xac\\x99\\x01>\\xa3\\xe9\\xd7\\xbd&\\x18\\xef<f\\xaf\\x99=\\xc6\\xf6\\xc3=\\xba\\xcf\\xec<CK\\xec=\\xe6\\xfe3=\\xd1^J\\xbdV[\\xb3\\xbc:\\xc0\\xcd=\\x17\\x80\\x85=\\x1c{\\x02\\xbd1\\x07\\xa8\\xbdX\\x85~<\\xe1\\x80,>\\xd8\\xdd)\\xbe\\xf2\\x16q>{\\xdc\\x1e=[\\xc2d\\xbe\\x9c\\x98\\xe3=I\\x1a-\\xbeB\\xa5\\xd6\\xbd)\\xa2<\\xbd\\x8a\\x9f\\xdd\\xbd\\xc0\\xb3\\x91;\\xcdo\\xb6<.=<\\xbd\\xb6\\x9b\\x7f\\xbe\\x83\\x80\\x18>8\\xb7z\\xbcZ?\\xd5=G\\xf5\\'\\xbdBZ9\\xbe\\xe5\\x8e\\x13\\xbe\\xe6a\\x1a>\\x9e\\xe4l=I\\xcb\\x18\\xbd\\xba\\x16\\x87\\xbc D\\xa6<\\xf2\\xdaD>\\xa0\\xc8\\xfd<\\x8d\\x01\\xf5;\\xb8\\xc8\\x07=\\xca\\xfd\\x88=hg\\x17>\\x88\\xe3\\xd0\\xbd\\x05\\xfbS\\xbe\\x80\\xeb\\x8e\\xbd \\x03\\xbe\\xbbw+\\x17\\xbecpl>2\\xbb\\x1e\\xbe\\xb9\\xbbD=Ah\\xbf=\\x91\\x0f\\x80\\xbd\\xdf*\\x97\\xbez\\x02N\\xbd\\x04C\\xe0=\\n@)\\xbd\\xc0\\x97Z<$\\xdd\\xbf<~7\\x82\\xbd\\x1b9\\x8e\\xbc/\\xf8\\xbc\\xbd\\x98\\xf3p\\xbe\\x81\\xa8\\x1a>,\\x18X=\\xd6\\xf2\\x00=F*\\x80\\xbchZ\\xa8;\\x08$\\x0f\\xbeZ4k>\\x89\\xd3\\xf7\\xbd\\xddZ\\x08\\xbd>v\\x10\\xbeh{\\xd9<\\xaa\\xe1\\xdf=\\x88\\x8d\\xda\\xbdP\\xb7\\xa9\\xbd\\xaa\\xe92;\\xba@\\xd1\\xbc\\x07\\x93\\x15>|B\\xf4=\\xc9*\\xe4\\xbc\\x88\\xb3{\\xbc\\xaf\\xa0C>\\xf3\\xbd\\xad\\xbc\\xc3vi\\xben\\t\\x0e>\\x0c\\xe9A\\xbd\\xe9\\x82\\xac\\xbd\\x94\\x13\\xff\\xbd O\\x84=pj\\xd6\\xbdw:\\x80=Z\\xf5\\x17=\\x84\\xaf\\x02=\\xa2\\xb5b>i)/=\\x1c\\x19S\\xbd\\xb2F\\xae\\xbc\\'\\xb9_=\\x0c\\xdb\\x18=k\\xfd\\xbe\\xbd\\xe2$\\x02>\\xa2\\x96\\xe0\\xbc\\xde\\xae4\\xbe\\x9e\\xe4^>7\\xfdy=\\x1a3H\\xbepRY\\xbd\\xdf\\xbdD>J^\\x8c;<\\xffH\\xbe\\\\\\x81\\xdf=\\xc6\\x1b*\\xbd8\\xde\\xe6=\\xc6vI=\\x05\\x9fd\\xbd\\xa6|\\xa0\\xbd\\xa3\\x17\\\\=\\x85M\\xd3\\xbd/\\x8a\\x00\\xbd\\'\\x9a\\xed=%\\x01Q=n\\x01\\xed=R\\x1d\\x96=7qN>U=\\x8e>\\xfd\\xa1V\\xbd\\x05\\x14[>\\xd0\\xdbi\\xbd<\\x88;\\xbd`\\x90\\xb9\\xbd 4\\x03>\\xf9\\xc4\\x15\\xbe\\xdcT\\xe9\\xbd\\x90\\xc0\\xe7=\\x1c\\'\\x7f=\\xf0\\x17\\x17>\\x00\\xe8V=\\xb8+\\r\\xbew-\\xfb=\\\\P\\xb2\\xbd9\\x17\\x04\\xbeQX\\xdc=\\xde`\\x87\\xbdM{\\xa8=V>;\\xbe\\xc6\\x10\\xc0\\xbdr4L\\xbd\\xb8\\x16\\x0f<\\x18w\\xf4\\xbb\\xb0\\xf1\\x16\\xbe\\xfd]\\x13\\xbe\\x18\\xb0\\xc1<\\xc7\\xe0\\x1d\\xbd\\xaf\\xf6\\x97=\\xd86\\xed=@\\xb1\\xc8\\xbdF\\x8eE>Y\\xaa\\x17>5\\xa7*>?g\\xd1=P\\xd3\\xb3\\xbb\\xf8\\xaac>U\\x08\\xad\\xbd\\x86\\xcd\\xbd\\xbd\\x17\\xdb9\\xbe\\xce\\xef5>RO\\x1b\\xbd\\xfd\\xca\\xeb=&\\xafT<V%5\\xbe*\\xb6\\x91=\\xbf\\xe4 =X\\xff\\xbf\\xbd\\xefRk=*\\x07\\xbb=\\x0b\\x95\\x08>\\x82\\x13?\\xbdW.\\x88\\xbe\\xb4\\x8b;\\xbc\\xca\\x0c\\x13>5\\xe5\\xd3=\\xfe\\xc9\\x8e\\xbd\\xb4\\x05\\xba<rz\\x13\\xbeP%\\xfe=\\xf6\\xcc\\xcc\\xbd\\xc6XZ\\xbd[\\x10\\x05\\xbd\\xf3\\xa3\\xa8\\xbd\\\\h\\x17\\xbd\\x0c\\x0b\\x9f<\\xbc\\xf0=<P\\'#=*9\\x0c\\xbb\\x00P3\\xban\\x1c\\x8d\\xbc\\xf3\\x95\\x82<\\x03\\xb6\\x1e\\xbd\\x9c=\\xee\\xbde\\xc2\\x07\\xbe\\xc8\\xf1\\x1f\\xbdJ\\xb1\\xd0\\xbd4n\\x92\\xbd\\x9ad\\x95\\xbd\\x92\\xdb\\xd3<\\xd4;(=\\xfeCh=*\\x10@\\xbdy\\xd6\\xa5=\\x02\\x80\\xec\\xbd@\\xab}=\\xc7\\xe9\\xa1=2\\x9bT\\xbd\\x83\\x86\\x84\\xbe\\xd9MF\\xbd&\\xf4J>\\xa2\\x8e~<R\\xbf\\x08>\\xcd\\x88\\x00\\xbct\\x8e\\xf5\\xbd\\xd0\\xdb \\xbe\\x96\\xbf\\xbb\\xbd\\x99\\x9aN>\\x0b\\xb7\\xa2=\\xb8d\\xd4<\\xe4\\xb1\\xa0\\xbc~\\xb9r=ix\\xc5=v\\x89`=8kk\\xbcd\\xb0\\x14\\xbeqC\\xf6\\xbc\\x1d\\x9f\\xbf<X\\x10\\xb3\\xbd\\xa2\\x9b\\xc7\\xbd^\\x0c\\xb8\\xbd\\xfam-\\xbc[F]=\\x15\\xf7\\xbc=]\\xd5\\xa4\\xbd0\\xcds<\\x98f\\x0f\\xbe\\x85c\\x8f=^\\x8a\\xbb<\\x80\\xea\\x0b\\xbeg\\x89-\\xbe\\x1f\\xe0_>\\xac7\\xcb\\xbdV\\xe0\\x9f\\xbdi\\x800=\\xcc\\xc6\\xf7=\\xe68\\xab\\xbd6k\\xa2=\\xe2@F>N\\xbd\\xfb\\xbde\\xae\\x01\\xbd\\xe0\\x8f\\x14;\\xd6\\xfa)=\\xfc\\xea\\xf5\\xbc\\xc4\\x120<\\x00o\\x15=\\xdc\\xc8N=\\xcf\\xa9\\xa3=8#\\x12\\xben\\x06\\xa3\\xbcA\\xf6\\xd0=\\xdc\\xf5\\x05\\xbe?\\x10\\xad\\xbc\\x13\\xef\\xe4\\xbc\\xbcS\\x12=\\xf8\\x89\\x89\\xbcFKQ\\xbe\\xd4\\xc7\\x8f<@\\xb6\\x0b\\xbeT\\n\\x94\\xbe\\x1c4\\xc8\\xbc\\x10v\\xac\\xbd\\xd2}\\xbb;\\xdeL\\xe1\\xbc\\xfaP\\xce=x?a=\\xf2p\\x9e<\\xad\\x0ek\\xbe\\rD\\x10>\\xab&\\xd9=\\r*\\x0e>\\x88Q\\x83\\xbd\\xd8\\x95\"\\xbeJ\\x80 \\xbc\\xf0\\xbc\\xe7\\xbc.H\\x80\\xbc\\xda\\xc7\\x14\\xbe\\xdc\\xb6w\\xbd\\x10m\\xf1\\xbc\\x93\\xe7\\xb7\\xbd\\x0e\\xef\\xe8<F-K\\xbe\\x92\\xf1\\xfa\\xbcig\\x07>\\x00>h\\xba\\xe4Nv<\\xd4\\xcf\\xea\\xbd\\x13i\\x03\\xbe\\xd6\\xfe\\xad;@\\x96\\x88\\xbcG\\xd3\\'\\xbe\\x81x\\x08\\xbe\\xdc\\xacQ\\xbd\\xb54`\\xbe\\x98D\\x1e\\xbe\\xdaL\\x87=\\x14+\\x8d<\\xae\\x9e\\xbe\\xbdNX\\xdc=\\x0cI\\xc8=rO\\x05\\xbe\\x94\\xf2\\x12=\\xe8\\xcf\\x03\\xbe\\xc3\\\\/\\xbc\\xbb\\x85\\x9e\\xbd\\x18\\xc0\\xde\\xbd\\xc6\\x12.\\xbd\\xd2vv\\xbe\\xedU\\xf1\\xbd\\xf4* \\xbd\\xd0\\xf3E>\\x08\\x8d\\xce<<\\x11\\x9b\\xbdJ+\\x06<*\\xd8\\x13\\xbe\\n\\xa2|=\\xa7!\\xb5\\xbcVTC=\\x9b\\xd3\\x1e\\xbd\\xa9\\xe5\\xdb=K\\x80\\x93=`\\xd1\\xe3<@b\\x18\\xba\\xa7\\x17d=\\xe3\\xc6z=\\xa4\\x9a\\xab=\\x130\\r>\\xe6\\xb5N\\xbe\\xa0K\\xb9=\\xa0T\\x99\\xbb\\x85\\xd5\\xda= \\x9c\\xb6\\xbe\\xca4\\x84\\xbd\\x06\\x19\\x1c\\xbeU\\x182=\\xcc\\xc6\\x11\\xbeX6\\x84;LIu\\xbeh\\x83?\\xbc\\xedV)\\xbek\\x133\\xbe@\\x0fM:\\xd4\\x06\\x06>\\xca\\'j=\\xc9`3\\xbdw\\xbe\\xee=\\x17`\\x98\\xbd\\t\\xc0/\\xbd4\\xea\\xed\\xbc\\x13)\\xe2=\\xc1\\xa1\\xd1=\\x8aF\\x18=\\x8c\\x1f\\x86=\\x10\\xcbs>2j\\xbc=5h\\xf3=t\\xd8\\x90>!z\\xba\\xbc\\xd0\\x18\\x8b\\xbc0\\x04\\xb0\\xbdE\\xdf\\x92=\\xe1\\x14!\\xbe\\xbe\\x9a?>\\xf6\\x1eK>O\\x148>\\xb4\\xea\\xf9\\xbd(\\x9f#>\\xdf\\xd3\\xc3\\xbdr1\\xef=`b\\xc0\\xbc\\xe1\\'A>\\xac\\xa3\\xbe<\\x8arj\\xbe\\x9ev\\xac\\xbd\\xacY_\\xbd6\\xbe\\x17>\\xcc\\r\\xe6\\xbc\\xce\\xd2/\\xbe\\xae)\\xda<xPt\\xbcT\\x98\\x89\\xbcP\\xa0\\x06=*A$\\xbe\\x0b\\xe1\\'\\xbe+\\xc98\\xbe\\xb1f\\x0c>l\\x7f\\x91\\xbe\\xee\\xee\\xbe=\\xa8\\xe0\\x0c=\\x98g\\x9a\\xbb\\\\\\xdf\\xc8=]\\xc6\\xd8=\\x9a\\xab\\x0f\\xbe\\xe2\\xa8\\x81=R\\xc3\\x1c\\xbeT\\xd4\\x8d>\\x0e\\xd8\\xd5=`\\xd8\\x9f\\xbb\\xc0.V\\xbd\\x93\\xd9C\\xbeu\\t\\x9b\\xbd\\xc8+\\xfa=\\x80\\xbf\\xd9<\\x00a\\xa4\\xbd\\xd8\\xa9\\x1d\\xbd8q\\xad<\\x90\\r\\xd3\\xbb`>$=\\x9d@\\xe0\\xbdz\\xf5\\xf1\\xbdL\\xc2\\xc8=$\\xb4R\\xbd\\xd5k\\xb8\\xbd\\xa2\\xd9\\x12\\xbd\\xa2p\\xed\\xbc`\\x96\\xea<\\x18G\\xcb=F\\n\\x18\\xbe\\x98mU=\\x8a\\xdf{<\\xf9W\\xd8=\\xa4\\x0b\\x15\\xbe\\xa9n~\\xbd`O\\x92:\\x1b\\x1b\\x87\\xbc \\x89+\\xbe\\x1e\\xe9\\xe0=\\xe5r\\'>\\x00H\\xb4\\xb9\\x13\\xc5U\\xbd\\xff\\x15\\'>\\x14!\\x00\\xbe\\xc8\\xa6\\x88\\xbe2\\xc9\\xb8=i\\xb9\\xb0=\\x80!-\\xbeD-/\\xbe\\xe6h\\x11\\xbd\\x1d\\xef\\x03\\xbe\\x83\\xc1\\xe3\\xbd$\\xcf\\x16\\xbe\\xd7\\x9c\\xf4=&\\xd6\\xa6\\xbdE\\xd6G> \\x83\\xde=6\\x14P\\xbd\\x95\\xc9\\xe7<\\x0etS\\xbei\\xa5\\x97=H\\xe4z=P@U\\xbd\\xa8uM\\xbc\\xa9U\\x83\\xbe\\xba\\xb0\\x8e<\\x02w1\\xbe\\x90\\xa5-=\\xb8\\x087>F]\\x12>\\x8e\\x08$=0\\xc6\\xae=\\xea\\x04\\xaf<\\xd2^\\x1f\\xbdY\\xcb\\xe4<z\"\\xe1\\xbd\\xde/\\xf9\\xbc\\xe2i\\xcb=xe\\x8c=\\x9e\\xe3\\xe5<r\\x98\\xef\\xbd\\xce_p<\\xee\\xce\\x10<\\xb2\\xff\\x08>C\\xd1\\x89>`m\\xca\\xbbL\\x1c\\x1d;*\\xa7+\\xbe,:\\x12=wRh\\xbd\\xb91\\x0b>q\\x8b\\x18\\xbe\\xaf)\\xda=\\xc5Lb=\\'C3=y\\xa3j>\\xc2\\x8b\\x0c>\\xda\\xa52\\xbd\\x7f\\xb7&\\xbd\\x88\\x0c\\x8e\\xbe\\x82c\\x85\\xbd\\xb0\\x08\\x07\\xbe\\xb4\\xae\\x93\\xbd\\xf1x#>\\xe5\\x96\\n>X3a>\\xacV\">r\\xd6\\xac<`,a\\xbd\\x06i\\x88=\\x8eKc=\\x00\\x99(<X\\x866>V\\xde\\x0f\\xbd\\xa4\\xe9\\x15>\\xcbJ\\xdd<\\x96\\xe6\\xe4\\xbc\\xc4E\\xee=\\x8f$\\x1c\\xbe\\xd5\\x85\\xf0=\\xbf\\xb6\\xf2=t\\x8d~\\xbd\\xc4\\xd0\\x01\\xbe'}"
      ]
     },
     "execution_count": 37,
     "metadata": {},
     "output_type": "execute_result"
    }
   ],
   "source": [
    "doc"
   ]
  },
  {
   "cell_type": "code",
   "execution_count": null,
   "id": "d8ff78b7-8af8-4a3a-ab96-157d224263fa",
   "metadata": {},
   "outputs": [],
   "source": []
  },
  {
   "cell_type": "code",
   "execution_count": null,
   "id": "d2552dd8-0912-488c-ae46-476b7b26ed6f",
   "metadata": {},
   "outputs": [],
   "source": []
  },
  {
   "cell_type": "code",
   "execution_count": 38,
   "id": "7d97fb66-b511-42ad-9c50-81f6fcf56626",
   "metadata": {},
   "outputs": [
    {
     "name": "stdout",
     "output_type": "stream",
     "text": [
      "*=>[KNN 20 @vector $vec_param AS vector_score]\n"
     ]
    }
   ],
   "source": [
    "k =20\n",
    "query = search_index.vector_query(            \n",
    "    number_of_results = k\n",
    ")"
   ]
  },
  {
   "cell_type": "code",
   "execution_count": 44,
   "id": "bca7acbe-659a-4e47-972e-2291baa23c49",
   "metadata": {},
   "outputs": [],
   "source": [
    "query_params={\"vec_param\": vector}\n",
    "# query_params"
   ]
  },
  {
   "cell_type": "code",
   "execution_count": 46,
   "id": "d7021b22-f9aa-40d4-b3e1-e9f09c467f6d",
   "metadata": {},
   "outputs": [
    {
     "data": {
      "text/plain": [
       "Result{0 total, docs: []}"
      ]
     },
     "execution_count": 46,
     "metadata": {},
     "output_type": "execute_result"
    }
   ],
   "source": [
    "result = await redis_conn.ft(\"docs\").search(\n",
    "   query,\n",
    "   query_params=query_params\n",
    ")\n",
    "result"
   ]
  },
  {
   "cell_type": "code",
   "execution_count": null,
   "id": "078f62e8-8f2e-438b-b948-3a9df66885ed",
   "metadata": {},
   "outputs": [],
   "source": []
  },
  {
   "cell_type": "code",
   "execution_count": 5,
   "id": "e50e02da-0eb1-49d2-a479-6166e8a6776c",
   "metadata": {},
   "outputs": [
    {
     "name": "stdout",
     "output_type": "stream",
     "text": [
      "The tensorboard extension is already loaded. To reload it, use:\n",
      "  %reload_ext tensorboard\n"
     ]
    }
   ],
   "source": [
    "try:\n",
    "  # %tensorflow_version only exists in Colab.\n",
    "  %tensorflow_version 2.x\n",
    "except Exception:\n",
    "  pass\n",
    "\n",
    "%load_ext tensorboard"
   ]
  },
  {
   "cell_type": "code",
   "execution_count": 6,
   "id": "f60dc174-9f5e-492f-8e96-9b239de20c1d",
   "metadata": {},
   "outputs": [
    {
     "data": {
      "text/html": [
       "\n",
       "      <iframe id=\"tensorboard-frame-c230cf7f622245e3\" width=\"100%\" height=\"800\" frameborder=\"0\">\n",
       "      </iframe>\n",
       "      <script>\n",
       "        (function() {\n",
       "          const frame = document.getElementById(\"tensorboard-frame-c230cf7f622245e3\");\n",
       "          const url = new URL(\"/\", window.location);\n",
       "          const port = 6006;\n",
       "          if (port) {\n",
       "            url.port = port;\n",
       "          }\n",
       "          frame.src = url;\n",
       "        })();\n",
       "      </script>\n",
       "    "
      ],
      "text/plain": [
       "<IPython.core.display.HTML object>"
      ]
     },
     "metadata": {},
     "output_type": "display_data"
    }
   ],
   "source": [
    "%tensorboard --logdir /logs/"
   ]
  },
  {
   "cell_type": "code",
   "execution_count": null,
   "id": "3eea9fec-5da9-4131-93bb-fc09762b201e",
   "metadata": {},
   "outputs": [],
   "source": []
  }
 ],
 "metadata": {
  "kernelspec": {
   "display_name": "saturn (Python 3)",
   "language": "python",
   "name": "python3"
  },
  "language_info": {
   "codemirror_mode": {
    "name": "ipython",
    "version": 3
   },
   "file_extension": ".py",
   "mimetype": "text/x-python",
   "name": "python",
   "nbconvert_exporter": "python",
   "pygments_lexer": "ipython3",
   "version": "3.7.12"
  }
 },
 "nbformat": 4,
 "nbformat_minor": 5
}

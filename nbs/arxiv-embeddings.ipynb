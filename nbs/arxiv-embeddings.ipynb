{
 "cells": [
  {
   "cell_type": "code",
   "execution_count": 1,
   "id": "3022afd8-2b17-488b-8d7f-e0258b40a32b",
   "metadata": {
    "execution": {
     "iopub.execute_input": "2022-11-07T14:28:34.850201Z",
     "iopub.status.busy": "2022-11-07T14:28:34.849776Z",
     "iopub.status.idle": "2022-11-07T14:28:35.079685Z",
     "shell.execute_reply": "2022-11-07T14:28:35.079150Z",
     "shell.execute_reply.started": "2022-11-07T14:28:34.850123Z"
    },
    "tags": []
   },
   "outputs": [],
   "source": [
    "import json\n",
    "import pandas as pd\n",
    "import os\n",
    "import re\n",
    "import string"
   ]
  },
  {
   "cell_type": "code",
   "execution_count": 2,
   "id": "e7c9bb8f-cff4-499c-9485-ba33217f8a82",
   "metadata": {
    "execution": {
     "iopub.execute_input": "2022-11-07T14:28:35.940432Z",
     "iopub.status.busy": "2022-11-07T14:28:35.939982Z",
     "iopub.status.idle": "2022-11-07T14:28:35.943404Z",
     "shell.execute_reply": "2022-11-07T14:28:35.942878Z",
     "shell.execute_reply.started": "2022-11-07T14:28:35.940405Z"
    },
    "tags": []
   },
   "outputs": [],
   "source": [
    "DATA_PATH='/home/jovyan/arxiv/arxiv-metadata-oai-snapshot.json'\n",
    "YEAR_CUTOFF = 2012\n",
    "YEAR_PATTERN = r\"(19|20[0-9]{2})\"\n",
    "ML_CATEGORY = \"cs.LG\""
   ]
  },
  {
   "cell_type": "code",
   "execution_count": 3,
   "id": "a9b22f2e-f7ce-4e7b-9501-da65030a3fd9",
   "metadata": {
    "execution": {
     "iopub.execute_input": "2022-11-07T14:28:37.228543Z",
     "iopub.status.busy": "2022-11-07T14:28:37.228223Z",
     "iopub.status.idle": "2022-11-07T14:28:38.028551Z",
     "shell.execute_reply": "2022-11-07T14:28:38.027910Z",
     "shell.execute_reply.started": "2022-11-07T14:28:37.228520Z"
    },
    "tags": []
   },
   "outputs": [
    {
     "name": "stdout",
     "output_type": "stream",
     "text": [
      "-rw-rw-r-- 1 jovyan jovyan 3.4G Nov  6 00:15 /home/jovyan/arxiv/arxiv-metadata-oai-snapshot.json\n"
     ]
    }
   ],
   "source": [
    "!ls -lah {DATA_PATH}"
   ]
  },
  {
   "cell_type": "code",
   "execution_count": null,
   "id": "b79bd19f-6f4a-4ae1-8b70-3e358e1b164c",
   "metadata": {
    "tags": []
   },
   "outputs": [],
   "source": []
  },
  {
   "cell_type": "code",
   "execution_count": 4,
   "id": "37d9f819-b399-4023-87e2-16daa88d4f3c",
   "metadata": {
    "execution": {
     "iopub.execute_input": "2022-11-07T14:28:40.765653Z",
     "iopub.status.busy": "2022-11-07T14:28:40.765258Z",
     "iopub.status.idle": "2022-11-07T14:28:40.771876Z",
     "shell.execute_reply": "2022-11-07T14:28:40.771380Z",
     "shell.execute_reply.started": "2022-11-07T14:28:40.765624Z"
    },
    "tags": []
   },
   "outputs": [],
   "source": [
    "def process(paper: dict):\n",
    "    paper = json.loads(paper)\n",
    "    if paper['journal-ref']:\n",
    "        years = [int(year) for year in re.findall(YEAR_PATTERN, paper['journal-ref'])]\n",
    "        years = [year for year in years if (year <= 2022 and year >= 1991)]\n",
    "        year = min(years) if years else None\n",
    "    else:\n",
    "        year = None\n",
    "    return {\n",
    "        'id': paper['id'],\n",
    "        'title': paper['title'],\n",
    "        'year': year,\n",
    "        'authors': paper['authors'],\n",
    "        'categories': ','.join(paper['categories'].split(' ')),\n",
    "        'abstract': paper['abstract']\n",
    "    }\n",
    "\n",
    "def papers():\n",
    "    with open(DATA_PATH, 'r') as f:\n",
    "        for paper in f:\n",
    "            paper = process(paper)\n",
    "            if paper['year']:\n",
    "                if paper['year'] >= YEAR_CUTOFF and ML_CATEGORY in paper['categories']:\n",
    "                    yield paper"
   ]
  },
  {
   "cell_type": "code",
   "execution_count": 5,
   "id": "50679147-a864-4773-9eab-71164ba4e97c",
   "metadata": {
    "execution": {
     "iopub.execute_input": "2022-11-07T14:29:00.635680Z",
     "iopub.status.busy": "2022-11-07T14:29:00.635306Z",
     "iopub.status.idle": "2022-11-07T14:29:34.736097Z",
     "shell.execute_reply": "2022-11-07T14:29:34.735586Z",
     "shell.execute_reply.started": "2022-11-07T14:29:00.635655Z"
    },
    "tags": []
   },
   "outputs": [
    {
     "data": {
      "text/plain": [
       "11419"
      ]
     },
     "execution_count": 5,
     "metadata": {},
     "output_type": "execute_result"
    }
   ],
   "source": [
    "df = pd.DataFrame(papers())\n",
    "len(df)"
   ]
  },
  {
   "cell_type": "code",
   "execution_count": 6,
   "id": "a05f8c32-b41f-4193-8fb4-f41d735f1528",
   "metadata": {
    "execution": {
     "iopub.execute_input": "2022-11-07T14:29:34.737279Z",
     "iopub.status.busy": "2022-11-07T14:29:34.736998Z",
     "iopub.status.idle": "2022-11-07T14:29:34.830885Z",
     "shell.execute_reply": "2022-11-07T14:29:34.830447Z",
     "shell.execute_reply.started": "2022-11-07T14:29:34.737258Z"
    }
   },
   "outputs": [
    {
     "data": {
      "text/plain": [
       "169.84534547683685"
      ]
     },
     "execution_count": 6,
     "metadata": {},
     "output_type": "execute_result"
    }
   ],
   "source": [
    "# Avg length of the abstracts\n",
    "df.abstract.apply(lambda a: len(a.split())).mean()"
   ]
  },
  {
   "cell_type": "code",
   "execution_count": 7,
   "id": "48f01bd2-2015-4db1-a361-62b19759e752",
   "metadata": {
    "execution": {
     "iopub.execute_input": "2022-11-07T14:29:44.687554Z",
     "iopub.status.busy": "2022-11-07T14:29:44.687177Z",
     "iopub.status.idle": "2022-11-07T14:29:44.692292Z",
     "shell.execute_reply": "2022-11-07T14:29:44.691773Z",
     "shell.execute_reply.started": "2022-11-07T14:29:44.687528Z"
    },
    "tags": []
   },
   "outputs": [],
   "source": [
    "def clean_description(description: str):\n",
    "    if not description:\n",
    "        return \"\"\n",
    "    # remove unicode characters\n",
    "    description = description.encode('ascii', 'ignore').decode()\n",
    "\n",
    "    # remove punctuation\n",
    "    description = re.sub('[%s]' % re.escape(string.punctuation), ' ', description)\n",
    "\n",
    "    # clean up the spacing\n",
    "    description = re.sub('\\s{2,}', \" \", description)\n",
    "\n",
    "    # remove urls\n",
    "    #description = re.sub(\"https*\\S+\", \" \", description)\n",
    "\n",
    "    # remove newlines\n",
    "    description = description.replace(\"\\n\", \" \")\n",
    "\n",
    "    # remove all numbers\n",
    "    #description = re.sub('\\w*\\d+\\w*', '', description)\n",
    "\n",
    "    # split on capitalized words\n",
    "    description = \" \".join(re.split('(?=[A-Z])', description))\n",
    "\n",
    "    # clean up the spacing again\n",
    "    description = re.sub('\\s{2,}', \" \", description)\n",
    "\n",
    "    # make all words lowercase\n",
    "    description = description.lower()\n",
    "\n",
    "    return description"
   ]
  },
  {
   "cell_type": "code",
   "execution_count": 8,
   "id": "51a0d9bf-aa7f-418a-8ca7-72f27919af19",
   "metadata": {
    "execution": {
     "iopub.execute_input": "2022-11-07T14:29:46.067023Z",
     "iopub.status.busy": "2022-11-07T14:29:46.066623Z",
     "iopub.status.idle": "2022-11-07T14:29:46.864981Z",
     "shell.execute_reply": "2022-11-07T14:29:46.864305Z",
     "shell.execute_reply.started": "2022-11-07T14:29:46.066997Z"
    },
    "tags": []
   },
   "outputs": [
    {
     "name": "stdout",
     "output_type": "stream",
     "text": [
      "GPU 0: Tesla T4 (UUID: GPU-c7932e9d-60b8-c107-e5aa-78f001a919ed)\n"
     ]
    }
   ],
   "source": [
    "!nvidia-smi -L"
   ]
  },
  {
   "cell_type": "code",
   "execution_count": null,
   "id": "9bfe8397-621e-4935-aaa9-61f27a8c67d7",
   "metadata": {},
   "outputs": [],
   "source": []
  },
  {
   "cell_type": "code",
   "execution_count": 9,
   "id": "d6ef0d1e-e1cf-45b7-8f11-5a03ab14241f",
   "metadata": {
    "execution": {
     "iopub.execute_input": "2022-11-07T14:29:48.952257Z",
     "iopub.status.busy": "2022-11-07T14:29:48.951849Z",
     "iopub.status.idle": "2022-11-07T14:29:59.664633Z",
     "shell.execute_reply": "2022-11-07T14:29:59.663861Z",
     "shell.execute_reply.started": "2022-11-07T14:29:48.952228Z"
    }
   },
   "outputs": [
    {
     "data": {
      "application/vnd.jupyter.widget-view+json": {
       "model_id": "8e877fcb048a46c886fb51fb35c46f7e",
       "version_major": 2,
       "version_minor": 0
      },
      "text/plain": [
       "Downloading:   0%|          | 0.00/1.18k [00:00<?, ?B/s]"
      ]
     },
     "metadata": {},
     "output_type": "display_data"
    },
    {
     "data": {
      "application/vnd.jupyter.widget-view+json": {
       "model_id": "5b268cfe3144477dac1d7de046f5d815",
       "version_major": 2,
       "version_minor": 0
      },
      "text/plain": [
       "Downloading:   0%|          | 0.00/190 [00:00<?, ?B/s]"
      ]
     },
     "metadata": {},
     "output_type": "display_data"
    },
    {
     "data": {
      "application/vnd.jupyter.widget-view+json": {
       "model_id": "0d57f593e8b644f386fd09eb9bec1872",
       "version_major": 2,
       "version_minor": 0
      },
      "text/plain": [
       "Downloading:   0%|          | 0.00/10.6k [00:00<?, ?B/s]"
      ]
     },
     "metadata": {},
     "output_type": "display_data"
    },
    {
     "data": {
      "application/vnd.jupyter.widget-view+json": {
       "model_id": "ddcd8553e8d94fedbcfe1858e01848df",
       "version_major": 2,
       "version_minor": 0
      },
      "text/plain": [
       "Downloading:   0%|          | 0.00/571 [00:00<?, ?B/s]"
      ]
     },
     "metadata": {},
     "output_type": "display_data"
    },
    {
     "data": {
      "application/vnd.jupyter.widget-view+json": {
       "model_id": "1e33c9859d914e7c8686a77257d13473",
       "version_major": 2,
       "version_minor": 0
      },
      "text/plain": [
       "Downloading:   0%|          | 0.00/116 [00:00<?, ?B/s]"
      ]
     },
     "metadata": {},
     "output_type": "display_data"
    },
    {
     "data": {
      "application/vnd.jupyter.widget-view+json": {
       "model_id": "b67da3072b34454cbab0ede393ef0d47",
       "version_major": 2,
       "version_minor": 0
      },
      "text/plain": [
       "Downloading:   0%|          | 0.00/39.3k [00:00<?, ?B/s]"
      ]
     },
     "metadata": {},
     "output_type": "display_data"
    },
    {
     "data": {
      "application/vnd.jupyter.widget-view+json": {
       "model_id": "aa535fac01b84144bed678bb35c4a18f",
       "version_major": 2,
       "version_minor": 0
      },
      "text/plain": [
       "Downloading:   0%|          | 0.00/438M [00:00<?, ?B/s]"
      ]
     },
     "metadata": {},
     "output_type": "display_data"
    },
    {
     "data": {
      "application/vnd.jupyter.widget-view+json": {
       "model_id": "73b7daf630aa4e4ebbb624df5351936e",
       "version_major": 2,
       "version_minor": 0
      },
      "text/plain": [
       "Downloading:   0%|          | 0.00/53.0 [00:00<?, ?B/s]"
      ]
     },
     "metadata": {},
     "output_type": "display_data"
    },
    {
     "data": {
      "application/vnd.jupyter.widget-view+json": {
       "model_id": "90c3c697268447e187a6d3519b94a7ea",
       "version_major": 2,
       "version_minor": 0
      },
      "text/plain": [
       "Downloading:   0%|          | 0.00/239 [00:00<?, ?B/s]"
      ]
     },
     "metadata": {},
     "output_type": "display_data"
    },
    {
     "data": {
      "application/vnd.jupyter.widget-view+json": {
       "model_id": "acfe810302394081bc76b1a6ebebc7cc",
       "version_major": 2,
       "version_minor": 0
      },
      "text/plain": [
       "Downloading:   0%|          | 0.00/466k [00:00<?, ?B/s]"
      ]
     },
     "metadata": {},
     "output_type": "display_data"
    },
    {
     "data": {
      "application/vnd.jupyter.widget-view+json": {
       "model_id": "e2af76eae783447fbd32d1ebceaf72fa",
       "version_major": 2,
       "version_minor": 0
      },
      "text/plain": [
       "Downloading:   0%|          | 0.00/363 [00:00<?, ?B/s]"
      ]
     },
     "metadata": {},
     "output_type": "display_data"
    },
    {
     "data": {
      "application/vnd.jupyter.widget-view+json": {
       "model_id": "52ca02a22bc34287a33407d7e45ab643",
       "version_major": 2,
       "version_minor": 0
      },
      "text/plain": [
       "Downloading:   0%|          | 0.00/13.1k [00:00<?, ?B/s]"
      ]
     },
     "metadata": {},
     "output_type": "display_data"
    },
    {
     "data": {
      "application/vnd.jupyter.widget-view+json": {
       "model_id": "7469c60102d0431bb0e2d3bd73e7b253",
       "version_major": 2,
       "version_minor": 0
      },
      "text/plain": [
       "Downloading:   0%|          | 0.00/232k [00:00<?, ?B/s]"
      ]
     },
     "metadata": {},
     "output_type": "display_data"
    },
    {
     "data": {
      "application/vnd.jupyter.widget-view+json": {
       "model_id": "3d244bed257f4ea2bb35020be27a3ea1",
       "version_major": 2,
       "version_minor": 0
      },
      "text/plain": [
       "Downloading:   0%|          | 0.00/349 [00:00<?, ?B/s]"
      ]
     },
     "metadata": {},
     "output_type": "display_data"
    }
   ],
   "source": [
    "from sentence_transformers import SentenceTransformer\n",
    "\n",
    "model = SentenceTransformer('sentence-transformers/all-mpnet-base-v2')"
   ]
  },
  {
   "cell_type": "code",
   "execution_count": 10,
   "id": "8eb74f8c-84ee-413e-a075-c939ddff09f0",
   "metadata": {
    "execution": {
     "iopub.execute_input": "2022-11-07T14:29:59.666291Z",
     "iopub.status.busy": "2022-11-07T14:29:59.665949Z",
     "iopub.status.idle": "2022-11-07T14:32:42.002264Z",
     "shell.execute_reply": "2022-11-07T14:32:42.001615Z",
     "shell.execute_reply.started": "2022-11-07T14:29:59.666264Z"
    }
   },
   "outputs": [],
   "source": [
    "# Create embeddings from the title and abstract\n",
    "emb = model.encode(df.apply(lambda r: clean_description(r['title'] + ' ' + r['abstract']), axis=1).tolist())"
   ]
  },
  {
   "cell_type": "code",
   "execution_count": 11,
   "id": "8ccb86a8-c617-4afb-8fbe-59d6512aff29",
   "metadata": {
    "execution": {
     "iopub.execute_input": "2022-11-07T14:32:42.004283Z",
     "iopub.status.busy": "2022-11-07T14:32:42.003768Z",
     "iopub.status.idle": "2022-11-07T14:32:42.365470Z",
     "shell.execute_reply": "2022-11-07T14:32:42.364900Z",
     "shell.execute_reply.started": "2022-11-07T14:32:42.004260Z"
    }
   },
   "outputs": [],
   "source": [
    "# Add embeddings to df\n",
    "df = df.reset_index().drop('index', axis=1)\n",
    "df['vector'] = emb.tolist()"
   ]
  },
  {
   "cell_type": "code",
   "execution_count": 12,
   "id": "758baa66-6355-421f-b05b-4b36e13c9115",
   "metadata": {
    "execution": {
     "iopub.execute_input": "2022-11-07T14:32:42.366533Z",
     "iopub.status.busy": "2022-11-07T14:32:42.366250Z",
     "iopub.status.idle": "2022-11-07T14:32:42.767281Z",
     "shell.execute_reply": "2022-11-07T14:32:42.766640Z",
     "shell.execute_reply.started": "2022-11-07T14:32:42.366511Z"
    }
   },
   "outputs": [],
   "source": [
    "import pickle\n",
    "\n",
    "# Export to file!\n",
    "with open('arxiv_embeddings_10000.pkl', 'wb') as f:\n",
    "    data = pickle.dumps(df)\n",
    "    f.write(data)"
   ]
  },
  {
   "cell_type": "code",
   "execution_count": null,
   "id": "5a9ca8b0-d228-4d4d-b102-dfa2650f4d22",
   "metadata": {},
   "outputs": [],
   "source": []
  }
 ],
 "metadata": {
  "kernelspec": {
   "display_name": "saturn (Python 3)",
   "language": "python",
   "name": "python3"
  },
  "language_info": {
   "codemirror_mode": {
    "name": "ipython",
    "version": 3
   },
   "file_extension": ".py",
   "mimetype": "text/x-python",
   "name": "python",
   "nbconvert_exporter": "python",
   "pygments_lexer": "ipython3",
   "version": "3.7.12"
  }
 },
 "nbformat": 4,
 "nbformat_minor": 5
}

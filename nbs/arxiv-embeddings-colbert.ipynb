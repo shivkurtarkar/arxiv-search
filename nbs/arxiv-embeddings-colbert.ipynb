{
 "cells": [
  {
   "cell_type": "code",
   "execution_count": 1,
   "id": "3022afd8-2b17-488b-8d7f-e0258b40a32b",
   "metadata": {
    "execution": {
     "iopub.execute_input": "2022-11-07T16:16:32.048762Z",
     "iopub.status.busy": "2022-11-07T16:16:32.048440Z",
     "iopub.status.idle": "2022-11-07T16:16:32.307116Z",
     "shell.execute_reply": "2022-11-07T16:16:32.306605Z",
     "shell.execute_reply.started": "2022-11-07T16:16:32.048690Z"
    },
    "tags": []
   },
   "outputs": [],
   "source": [
    "import json\n",
    "import pandas as pd\n",
    "import os\n",
    "import re\n",
    "import string\n",
    "import asyncio\n",
    "from tqdm.auto import tqdm\n",
    "tqdm.pandas()"
   ]
  },
  {
   "cell_type": "code",
   "execution_count": 2,
   "id": "e7c9bb8f-cff4-499c-9485-ba33217f8a82",
   "metadata": {
    "execution": {
     "iopub.execute_input": "2022-11-07T16:16:33.059633Z",
     "iopub.status.busy": "2022-11-07T16:16:33.059260Z",
     "iopub.status.idle": "2022-11-07T16:16:33.062611Z",
     "shell.execute_reply": "2022-11-07T16:16:33.062148Z",
     "shell.execute_reply.started": "2022-11-07T16:16:33.059609Z"
    },
    "tags": []
   },
   "outputs": [],
   "source": [
    "DATA_PATH='/home/jovyan/arxiv/arxiv-metadata-oai-snapshot.json'\n",
    "YEAR_CUTOFF = 2012\n",
    "YEAR_PATTERN = r\"(19|20[0-9]{2})\"\n",
    "ML_CATEGORY = \"cs.LG\""
   ]
  },
  {
   "cell_type": "code",
   "execution_count": 3,
   "id": "a9b22f2e-f7ce-4e7b-9501-da65030a3fd9",
   "metadata": {
    "execution": {
     "iopub.execute_input": "2022-11-07T16:16:33.369894Z",
     "iopub.status.busy": "2022-11-07T16:16:33.369564Z",
     "iopub.status.idle": "2022-11-07T16:16:34.156099Z",
     "shell.execute_reply": "2022-11-07T16:16:34.155422Z",
     "shell.execute_reply.started": "2022-11-07T16:16:33.369870Z"
    },
    "tags": []
   },
   "outputs": [
    {
     "name": "stdout",
     "output_type": "stream",
     "text": [
      "-rw-rw-r-- 1 jovyan jovyan 3.4G Nov  6 00:15 /home/jovyan/arxiv/arxiv-metadata-oai-snapshot.json\n"
     ]
    }
   ],
   "source": [
    "!ls -lah {DATA_PATH}"
   ]
  },
  {
   "cell_type": "code",
   "execution_count": null,
   "id": "b79bd19f-6f4a-4ae1-8b70-3e358e1b164c",
   "metadata": {
    "tags": []
   },
   "outputs": [],
   "source": []
  },
  {
   "cell_type": "code",
   "execution_count": 4,
   "id": "37d9f819-b399-4023-87e2-16daa88d4f3c",
   "metadata": {
    "execution": {
     "iopub.execute_input": "2022-11-07T16:16:34.157612Z",
     "iopub.status.busy": "2022-11-07T16:16:34.157322Z",
     "iopub.status.idle": "2022-11-07T16:16:34.163620Z",
     "shell.execute_reply": "2022-11-07T16:16:34.163153Z",
     "shell.execute_reply.started": "2022-11-07T16:16:34.157591Z"
    },
    "tags": []
   },
   "outputs": [],
   "source": [
    "def process(paper: dict):\n",
    "    paper = json.loads(paper)\n",
    "    if paper['journal-ref']:\n",
    "        years = [int(year) for year in re.findall(YEAR_PATTERN, paper['journal-ref'])]\n",
    "        years = [year for year in years if (year <= 2022 and year >= 1991)]\n",
    "        year = min(years) if years else None\n",
    "    else:\n",
    "        year = None\n",
    "    return {\n",
    "        'id': paper['id'],\n",
    "        'title': paper['title'],\n",
    "        'year': year,\n",
    "        'authors': paper['authors'],\n",
    "        'categories': ','.join(paper['categories'].split(' ')),\n",
    "        'abstract': paper['abstract']\n",
    "    }\n",
    "\n",
    "def papers():\n",
    "    with open(DATA_PATH, 'r') as f:\n",
    "        for paper in f:\n",
    "            paper = process(paper)\n",
    "            if paper['year']:\n",
    "                if paper['year'] >= YEAR_CUTOFF and ML_CATEGORY in paper['categories']:\n",
    "                    yield paper"
   ]
  },
  {
   "cell_type": "code",
   "execution_count": 7,
   "id": "50679147-a864-4773-9eab-71164ba4e97c",
   "metadata": {
    "execution": {
     "iopub.execute_input": "2022-11-07T16:16:52.161978Z",
     "iopub.status.busy": "2022-11-07T16:16:52.161577Z",
     "iopub.status.idle": "2022-11-07T16:17:24.711147Z",
     "shell.execute_reply": "2022-11-07T16:17:24.710632Z",
     "shell.execute_reply.started": "2022-11-07T16:16:52.161950Z"
    },
    "tags": []
   },
   "outputs": [
    {
     "data": {
      "text/plain": [
       "11419"
      ]
     },
     "execution_count": 7,
     "metadata": {},
     "output_type": "execute_result"
    }
   ],
   "source": [
    "df = pd.DataFrame(papers())\n",
    "len(df)"
   ]
  },
  {
   "cell_type": "code",
   "execution_count": 8,
   "id": "938c0805-09ee-4e4f-8539-1cbd58f30957",
   "metadata": {
    "execution": {
     "iopub.execute_input": "2022-11-07T16:17:24.712430Z",
     "iopub.status.busy": "2022-11-07T16:17:24.712106Z",
     "iopub.status.idle": "2022-11-07T16:17:24.718789Z",
     "shell.execute_reply": "2022-11-07T16:17:24.718335Z",
     "shell.execute_reply.started": "2022-11-07T16:17:24.712407Z"
    },
    "tags": []
   },
   "outputs": [
    {
     "data": {
      "text/plain": [
       "1142"
      ]
     },
     "execution_count": 8,
     "metadata": {},
     "output_type": "execute_result"
    }
   ],
   "source": [
    "# sample only fraction of data\n",
    "df = df.sample(frac=0.1)\n",
    "len(df)"
   ]
  },
  {
   "cell_type": "code",
   "execution_count": 9,
   "id": "a05f8c32-b41f-4193-8fb4-f41d735f1528",
   "metadata": {
    "execution": {
     "iopub.execute_input": "2022-11-07T16:17:24.719641Z",
     "iopub.status.busy": "2022-11-07T16:17:24.719397Z",
     "iopub.status.idle": "2022-11-07T16:17:24.733386Z",
     "shell.execute_reply": "2022-11-07T16:17:24.732919Z",
     "shell.execute_reply.started": "2022-11-07T16:17:24.719621Z"
    },
    "tags": []
   },
   "outputs": [
    {
     "data": {
      "text/plain": [
       "168.27408056042032"
      ]
     },
     "execution_count": 9,
     "metadata": {},
     "output_type": "execute_result"
    }
   ],
   "source": [
    "# Avg length of the abstracts\n",
    "df.abstract.apply(lambda a: len(a.split())).mean()"
   ]
  },
  {
   "cell_type": "code",
   "execution_count": 10,
   "id": "48f01bd2-2015-4db1-a361-62b19759e752",
   "metadata": {
    "execution": {
     "iopub.execute_input": "2022-11-07T16:17:24.734679Z",
     "iopub.status.busy": "2022-11-07T16:17:24.734330Z",
     "iopub.status.idle": "2022-11-07T16:17:24.738666Z",
     "shell.execute_reply": "2022-11-07T16:17:24.738227Z",
     "shell.execute_reply.started": "2022-11-07T16:17:24.734659Z"
    },
    "tags": []
   },
   "outputs": [],
   "source": [
    "def clean_description(description: str):\n",
    "    if not description:\n",
    "        return \"\"\n",
    "    # remove unicode characters\n",
    "    description = description.encode('ascii', 'ignore').decode()\n",
    "\n",
    "    # remove punctuation\n",
    "    description = re.sub('[%s]' % re.escape(string.punctuation), ' ', description)\n",
    "\n",
    "    # clean up the spacing\n",
    "    description = re.sub('\\s{2,}', \" \", description)\n",
    "\n",
    "    # remove urls\n",
    "    #description = re.sub(\"https*\\S+\", \" \", description)\n",
    "\n",
    "    # remove newlines\n",
    "    description = description.replace(\"\\n\", \" \")\n",
    "\n",
    "    # remove all numbers\n",
    "    #description = re.sub('\\w*\\d+\\w*', '', description)\n",
    "\n",
    "    # split on capitalized words\n",
    "    description = \" \".join(re.split('(?=[A-Z])', description))\n",
    "\n",
    "    # clean up the spacing again\n",
    "    description = re.sub('\\s{2,}', \" \", description)\n",
    "\n",
    "    # make all words lowercase\n",
    "    description = description.lower()\n",
    "\n",
    "    return description"
   ]
  },
  {
   "cell_type": "code",
   "execution_count": 11,
   "id": "51a0d9bf-aa7f-418a-8ca7-72f27919af19",
   "metadata": {
    "execution": {
     "iopub.execute_input": "2022-11-07T16:17:24.739691Z",
     "iopub.status.busy": "2022-11-07T16:17:24.739264Z",
     "iopub.status.idle": "2022-11-07T16:17:25.574211Z",
     "shell.execute_reply": "2022-11-07T16:17:25.573441Z",
     "shell.execute_reply.started": "2022-11-07T16:17:24.739669Z"
    },
    "tags": []
   },
   "outputs": [
    {
     "name": "stdout",
     "output_type": "stream",
     "text": [
      "GPU 0: Tesla T4 (UUID: GPU-c7932e9d-60b8-c107-e5aa-78f001a919ed)\n"
     ]
    }
   ],
   "source": [
    "!nvidia-smi -L"
   ]
  },
  {
   "cell_type": "code",
   "execution_count": 10,
   "id": "9bfe8397-621e-4935-aaa9-61f27a8c67d7",
   "metadata": {
    "execution": {
     "iopub.execute_input": "2022-11-07T16:14:09.333566Z",
     "iopub.status.busy": "2022-11-07T16:14:09.333263Z",
     "iopub.status.idle": "2022-11-07T16:14:09.336285Z",
     "shell.execute_reply": "2022-11-07T16:14:09.335816Z",
     "shell.execute_reply.started": "2022-11-07T16:14:09.333543Z"
    },
    "tags": []
   },
   "outputs": [],
   "source": [
    "# !pip install transformers"
   ]
  },
  {
   "cell_type": "code",
   "execution_count": 5,
   "id": "4a68a66c-f361-4082-87e4-7aa628106c9c",
   "metadata": {
    "execution": {
     "iopub.execute_input": "2022-11-07T16:16:40.782475Z",
     "iopub.status.busy": "2022-11-07T16:16:40.782118Z",
     "iopub.status.idle": "2022-11-07T16:16:41.849579Z",
     "shell.execute_reply": "2022-11-07T16:16:41.849058Z",
     "shell.execute_reply.started": "2022-11-07T16:16:40.782449Z"
    },
    "tags": []
   },
   "outputs": [],
   "source": [
    "from model import ColBERTModel"
   ]
  },
  {
   "cell_type": "code",
   "execution_count": null,
   "id": "02db2b67-281a-4b59-a529-76a68105547a",
   "metadata": {},
   "outputs": [],
   "source": []
  },
  {
   "cell_type": "code",
   "execution_count": 6,
   "id": "d6ef0d1e-e1cf-45b7-8f11-5a03ab14241f",
   "metadata": {
    "execution": {
     "iopub.execute_input": "2022-11-07T16:16:43.330237Z",
     "iopub.status.busy": "2022-11-07T16:16:43.329868Z",
     "iopub.status.idle": "2022-11-07T16:16:48.214109Z",
     "shell.execute_reply": "2022-11-07T16:16:48.213511Z",
     "shell.execute_reply.started": "2022-11-07T16:16:43.330213Z"
    },
    "tags": []
   },
   "outputs": [
    {
     "name": "stdout",
     "output_type": "stream",
     "text": [
      "using device: cuda:0\n"
     ]
    },
    {
     "name": "stderr",
     "output_type": "stream",
     "text": [
      "Some weights of the model checkpoint at distilbert-base-uncased were not used when initializing DistilBertModel: ['vocab_transform.bias', 'vocab_layer_norm.weight', 'vocab_projector.bias', 'vocab_transform.weight', 'vocab_layer_norm.bias', 'vocab_projector.weight']\n",
      "- This IS expected if you are initializing DistilBertModel from the checkpoint of a model trained on another task or with another architecture (e.g. initializing a BertForSequenceClassification model from a BertForPreTraining model).\n",
      "- This IS NOT expected if you are initializing DistilBertModel from the checkpoint of a model that you expect to be exactly identical (initializing a BertForSequenceClassification model from a BertForSequenceClassification model).\n"
     ]
    }
   ],
   "source": [
    "model = ColBERTModel()"
   ]
  },
  {
   "cell_type": "code",
   "execution_count": null,
   "id": "228d7e22-ac06-48be-a344-6d53870f5ed5",
   "metadata": {
    "tags": []
   },
   "outputs": [],
   "source": []
  },
  {
   "cell_type": "code",
   "execution_count": 12,
   "id": "8eb74f8c-84ee-413e-a075-c939ddff09f0",
   "metadata": {
    "execution": {
     "iopub.execute_input": "2022-11-07T16:17:37.170752Z",
     "iopub.status.busy": "2022-11-07T16:17:37.170342Z",
     "iopub.status.idle": "2022-11-07T16:18:00.756699Z",
     "shell.execute_reply": "2022-11-07T16:18:00.756152Z",
     "shell.execute_reply.started": "2022-11-07T16:17:37.170724Z"
    },
    "tags": []
   },
   "outputs": [
    {
     "data": {
      "application/vnd.jupyter.widget-view+json": {
       "model_id": "cbb6df3702864294ac8fb3ff694222d8",
       "version_major": 2,
       "version_minor": 0
      },
      "text/plain": [
       "  0%|          | 0/1142 [00:00<?, ?it/s]"
      ]
     },
     "metadata": {},
     "output_type": "display_data"
    }
   ],
   "source": [
    "# # Create embeddings from the title and abstract\n",
    "emb = []\n",
    "for text in tqdm(df.apply(lambda r: clean_description(r['title'] + ' ' + r['abstract']), axis=1).tolist()):\n",
    "    emb.append(model.compute_document_representation(text).tolist())\n",
    "    \n"
   ]
  },
  {
   "cell_type": "code",
   "execution_count": 13,
   "id": "c59a4685-c6ef-457b-bded-8ce6eb71f390",
   "metadata": {
    "execution": {
     "iopub.execute_input": "2022-11-07T16:18:16.540020Z",
     "iopub.status.busy": "2022-11-07T16:18:16.539608Z",
     "iopub.status.idle": "2022-11-07T16:18:16.543728Z",
     "shell.execute_reply": "2022-11-07T16:18:16.543255Z",
     "shell.execute_reply.started": "2022-11-07T16:18:16.539993Z"
    },
    "tags": []
   },
   "outputs": [
    {
     "data": {
      "text/plain": [
       "1142"
      ]
     },
     "execution_count": 13,
     "metadata": {},
     "output_type": "execute_result"
    }
   ],
   "source": [
    "len(emb)"
   ]
  },
  {
   "cell_type": "code",
   "execution_count": null,
   "id": "5f975a8c-2c5a-48b1-ad45-5322403415dc",
   "metadata": {},
   "outputs": [],
   "source": []
  },
  {
   "cell_type": "code",
   "execution_count": null,
   "id": "198e755b-e361-4adc-a8a1-dbee211d713c",
   "metadata": {},
   "outputs": [],
   "source": []
  },
  {
   "cell_type": "code",
   "execution_count": 14,
   "id": "8ccb86a8-c617-4afb-8fbe-59d6512aff29",
   "metadata": {
    "execution": {
     "iopub.execute_input": "2022-11-07T16:18:34.840977Z",
     "iopub.status.busy": "2022-11-07T16:18:34.840584Z",
     "iopub.status.idle": "2022-11-07T16:18:34.847545Z",
     "shell.execute_reply": "2022-11-07T16:18:34.847036Z",
     "shell.execute_reply.started": "2022-11-07T16:18:34.840939Z"
    },
    "tags": []
   },
   "outputs": [],
   "source": [
    "# Add embeddings to df\n",
    "df = df.reset_index().drop('index', axis=1)\n",
    "df['vector_matrix'] = emb"
   ]
  },
  {
   "cell_type": "code",
   "execution_count": null,
   "id": "6524e56f-bd6b-49af-9d0e-c452b46d31e3",
   "metadata": {},
   "outputs": [],
   "source": []
  },
  {
   "cell_type": "code",
   "execution_count": 15,
   "id": "bb456c8f-e65c-49bd-9613-56529eb6d8f1",
   "metadata": {
    "execution": {
     "iopub.execute_input": "2022-11-07T16:18:36.651048Z",
     "iopub.status.busy": "2022-11-07T16:18:36.650677Z",
     "iopub.status.idle": "2022-11-07T16:18:36.664679Z",
     "shell.execute_reply": "2022-11-07T16:18:36.664146Z",
     "shell.execute_reply.started": "2022-11-07T16:18:36.651023Z"
    },
    "tags": []
   },
   "outputs": [
    {
     "name": "stdout",
     "output_type": "stream",
     "text": [
      "<class 'pandas.core.frame.DataFrame'>\n",
      "RangeIndex: 1142 entries, 0 to 1141\n",
      "Data columns (total 7 columns):\n",
      " #   Column         Non-Null Count  Dtype \n",
      "---  ------         --------------  ----- \n",
      " 0   id             1142 non-null   object\n",
      " 1   title          1142 non-null   object\n",
      " 2   year           1142 non-null   int64 \n",
      " 3   authors        1142 non-null   object\n",
      " 4   categories     1142 non-null   object\n",
      " 5   abstract       1142 non-null   object\n",
      " 6   vector_matrix  1142 non-null   object\n",
      "dtypes: int64(1), object(6)\n",
      "memory usage: 62.6+ KB\n"
     ]
    }
   ],
   "source": [
    "df.info()"
   ]
  },
  {
   "cell_type": "code",
   "execution_count": 16,
   "id": "5ef91b8a-9b01-4ff7-bffd-acac37527fa3",
   "metadata": {
    "execution": {
     "iopub.execute_input": "2022-11-07T16:18:38.959987Z",
     "iopub.status.busy": "2022-11-07T16:18:38.959598Z",
     "iopub.status.idle": "2022-11-07T16:18:38.966497Z",
     "shell.execute_reply": "2022-11-07T16:18:38.966048Z",
     "shell.execute_reply.started": "2022-11-07T16:18:38.959963Z"
    },
    "tags": []
   },
   "outputs": [
    {
     "data": {
      "text/plain": [
       "3.728963851928711"
      ]
     },
     "execution_count": 16,
     "metadata": {},
     "output_type": "execute_result"
    }
   ],
   "source": [
    "df.memory_usage(index=True, deep=True).sum()/1024/1024"
   ]
  },
  {
   "cell_type": "code",
   "execution_count": null,
   "id": "327b768a-9851-4eaf-bcca-7b7b23dfeb3e",
   "metadata": {},
   "outputs": [],
   "source": []
  },
  {
   "cell_type": "code",
   "execution_count": 17,
   "id": "758baa66-6355-421f-b05b-4b36e13c9115",
   "metadata": {
    "execution": {
     "iopub.execute_input": "2022-11-07T16:18:47.488955Z",
     "iopub.status.busy": "2022-11-07T16:18:47.488565Z",
     "iopub.status.idle": "2022-11-07T16:18:55.168634Z",
     "shell.execute_reply": "2022-11-07T16:18:55.168025Z",
     "shell.execute_reply.started": "2022-11-07T16:18:47.488928Z"
    },
    "tags": []
   },
   "outputs": [],
   "source": [
    "import pickle\n",
    "\n",
    "# Export to file!\n",
    "with open('arxiv_colbert_embeddings_1000.pkl', 'wb') as f:\n",
    "    data = pickle.dumps(df)\n",
    "    f.write(data)"
   ]
  },
  {
   "cell_type": "code",
   "execution_count": 20,
   "id": "5a9ca8b0-d228-4d4d-b102-dfa2650f4d22",
   "metadata": {
    "execution": {
     "iopub.execute_input": "2022-11-07T16:19:07.503655Z",
     "iopub.status.busy": "2022-11-07T16:19:07.503248Z",
     "iopub.status.idle": "2022-11-07T16:19:08.559618Z",
     "shell.execute_reply": "2022-11-07T16:19:08.558898Z",
     "shell.execute_reply.started": "2022-11-07T16:19:07.503619Z"
    },
    "tags": []
   },
   "outputs": [
    {
     "name": "stdout",
     "output_type": "stream",
     "text": [
      "huggingface/tokenizers: The current process just got forked, after parallelism has already been used. Disabling parallelism to avoid deadlocks...\n",
      "To disable this warning, you can either:\n",
      "\t- Avoid using `tokenizers` before the fork if possible\n",
      "\t- Explicitly set the environment variable TOKENIZERS_PARALLELISM=(true | false)\n",
      "total 1.7G\n",
      "drwxrwsr-x  4 jovyan jovyan 4.0K Nov  7 16:18 \u001b[0m\u001b[01;34m.\u001b[0m/\n",
      "drwxrwsr-x 10 jovyan jovyan 4.0K Nov  7 14:24 \u001b[01;34m..\u001b[0m/\n",
      "-rw-r--r--  1 jovyan jovyan 1.7G Nov  7 16:18 arxiv_colbert_embeddings_1000.pkl\n",
      "-rw-r--r--  1 jovyan jovyan  91M Nov  7 14:32 arxiv_embeddings_10000.pkl\n",
      "-rw-r--r--  1 jovyan jovyan  19K Nov  7 16:18 arxiv-embeddings-colbert.ipynb\n",
      "-rw-rw-r--  1 jovyan jovyan  16K Nov  7 14:33 arxiv-embeddings.ipynb\n",
      "-rw-r--r--  1 jovyan jovyan 2.8K Nov  7 14:50 colbert_model.py\n",
      "drwxrwsr-x  2 jovyan jovyan 4.0K Nov  7 14:51 \u001b[01;34m.ipynb_checkpoints\u001b[0m/\n",
      "-rw-r--r--  1 jovyan jovyan 4.9K Nov  7 16:15 model.py\n",
      "drwxr-sr-x  2 jovyan jovyan 4.0K Nov  7 16:16 \u001b[01;34m__pycache__\u001b[0m/\n"
     ]
    }
   ],
   "source": [
    "ls -lah "
   ]
  },
  {
   "cell_type": "code",
   "execution_count": null,
   "id": "2ce62944-5834-4996-9bd5-f1266824d574",
   "metadata": {},
   "outputs": [],
   "source": []
  }
 ],
 "metadata": {
  "kernelspec": {
   "display_name": "saturn (Python 3)",
   "language": "python",
   "name": "python3"
  },
  "language_info": {
   "codemirror_mode": {
    "name": "ipython",
    "version": 3
   },
   "file_extension": ".py",
   "mimetype": "text/x-python",
   "name": "python",
   "nbconvert_exporter": "python",
   "pygments_lexer": "ipython3",
   "version": "3.7.12"
  }
 },
 "nbformat": 4,
 "nbformat_minor": 5
}
